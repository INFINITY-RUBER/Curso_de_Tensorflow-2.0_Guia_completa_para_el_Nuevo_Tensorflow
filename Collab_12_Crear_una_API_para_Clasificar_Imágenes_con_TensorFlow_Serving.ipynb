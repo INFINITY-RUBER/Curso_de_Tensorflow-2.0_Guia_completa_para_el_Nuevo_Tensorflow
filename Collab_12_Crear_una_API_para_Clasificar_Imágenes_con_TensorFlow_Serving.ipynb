{
  "nbformat": 4,
  "nbformat_minor": 0,
  "metadata": {
    "colab": {
      "name": "Collab 12 - Crear una API para Clasificar Imágenes con TensorFlow Serving.ipynb",
      "provenance": [],
      "collapsed_sections": [],
      "toc_visible": true,
      "include_colab_link": true
    },
    "kernelspec": {
      "name": "python3",
      "display_name": "Python 3"
    },
    "accelerator": "GPU"
  },
  "cells": [
    {
      "cell_type": "markdown",
      "metadata": {
        "id": "view-in-github",
        "colab_type": "text"
      },
      "source": [
        "<a href=\"https://colab.research.google.com/github/INFINITY-RUBER/Curso_de_Tensorflow-2.0_Guia_completa_para_el_Nuevo_Tensorflow/blob/master/Collab_12_Crear_una_API_para_Clasificar_Im%C3%A1genes_con_TensorFlow_Serving.ipynb\" target=\"_parent\"><img src=\"https://colab.research.google.com/assets/colab-badge.svg\" alt=\"Open In Colab\"/></a>"
      ]
    },
    {
      "cell_type": "markdown",
      "metadata": {
        "id": "yCrzPgLp7W1h",
        "colab_type": "text"
      },
      "source": [
        "## Paso 1: Instalar las dependencias y configurar el proyecto en GPU\n"
      ]
    },
    {
      "cell_type": "code",
      "metadata": {
        "id": "w0KGbZuk7T7F",
        "colab_type": "code",
        "colab": {
          "base_uri": "https://localhost:8080/",
          "height": 128
        },
        "outputId": "476a5c1f-54b8-4d15-dc7c-1113bb04a2bc"
      },
      "source": [
        "!echo \"deb [arch=amd64] http://storage.googleapis.com/tensorflow-serving-apt stable tensorflow-model-server tensorflow-model-server-universal\" | sudo tee /etc/apt/sources.list.d/tensorflow-serving.list && curl https://storage.googleapis.com/tensorflow-serving-apt/tensorflow-serving.release.pub.gpg | sudo apt-key add -"
      ],
      "execution_count": 3,
      "outputs": [
        {
          "output_type": "stream",
          "text": [
            "deb [arch=amd64] http://storage.googleapis.com/tensorflow-serving-apt stable tensorflow-model-server tensorflow-model-server-universal\n",
            "  % Total    % Received % Xferd  Average Speed   Time    Time     Time  Current\n",
            "                                 Dload  Upload   Total   Spent    Left  Speed\n",
            "\r  0     0    0     0    0     0      0      0 --:--:-- --:--:-- --:--:--     0\r100  2943  100  2943    0     0   159k      0 --:--:-- --:--:-- --:--:--  159k\n",
            "OK\n"
          ],
          "name": "stdout"
        }
      ]
    },
    {
      "cell_type": "code",
      "metadata": {
        "id": "-AoEpKnD94Lj",
        "colab_type": "code",
        "colab": {
          "base_uri": "https://localhost:8080/",
          "height": 565
        },
        "outputId": "21a4a0a1-e44f-4868-9a5b-7a6202b781d5"
      },
      "source": [
        "!apt-get update & apt-get install tensorflow-model-server"
      ],
      "execution_count": 2,
      "outputs": [
        {
          "output_type": "stream",
          "text": [
            "\rReading package lists... 0%\r\r0% [Working]\rReading package lists... 0%\r\rReading package lists... 0%\r\r            \rHit:1 http://storage.googleapis.com/tensorflow-serving-apt stable InRelease\n",
            "\r0% [Connecting to archive.ubuntu.com] [Connecting to security.ubuntu.com (91.18\r0% [1 InRelease gpgv 3,012 B] [Connecting to archive.ubuntu.com (91.189.88.142)\r                                                                               \rIgn:2 https://developer.download.nvidia.com/compute/cuda/repos/ubuntu1804/x86_64  InRelease\n",
            "\r0% [1 InRelease gpgv 3,012 B] [Connecting to archive.ubuntu.com (91.189.88.142)\rReading package lists... 6%\r\rReading package lists... 6%\r\r                                                                               \rHit:3 https://cloud.r-project.org/bin/linux/ubuntu bionic-cran35/ InRelease\n",
            "\r0% [1 InRelease gpgv 3,012 B] [Connecting to archive.ubuntu.com (91.189.88.142)\r                                                                               \rIgn:4 https://developer.download.nvidia.com/compute/machine-learning/repos/ubuntu1804/x86_64  InRelease\n",
            "\r0% [1 InRelease gpgv 3,012 B] [Connecting to archive.ubuntu.com (91.189.88.142)\r                                                                               \rHit:5 https://developer.download.nvidia.com/compute/cuda/repos/ubuntu1804/x86_64  Release\n",
            "\r0% [1 InRelease gpgv 3,012 B] [Connecting to archive.ubuntu.com (91.189.88.142)\rReading package lists... 6%\r\rReading package lists... 6%\r\r                                                                               \rHit:6 https://developer.download.nvidia.com/compute/machine-learning/repos/ubuntu1804/x86_64  Release\n",
            "\r0% [1 InRelease gpgv 3,012 B] [Waiting for headers] [Waiting for headers] [Wait\r                                                                               \rHit:7 http://ppa.launchpad.net/graphics-drivers/ppa/ubuntu bionic InRelease\n",
            "\r                                                                               \r0% [1 InRelease gpgv 3,012 B] [Waiting for headers] [Waiting for headers]\r                                                                         \rHit:8 http://security.ubuntu.com/ubuntu bionic-security InRelease\n",
            "\r0% [1 InRelease gpgv 3,012 B] [Waiting for headers] [Connecting to ppa.launchpa\r                                                                               \rHit:9 http://archive.ubuntu.com/ubuntu bionic InRelease\n",
            "Hit:10 http://archive.ubuntu.com/ubuntu bionic-updates InRelease\n",
            "Hit:11 http://ppa.launchpad.net/marutter/c2d4u3.5/ubuntu bionic InRelease\n",
            "Get:12 http://archive.ubuntu.com/ubuntu bionic-backports InRelease [74.6 kB]\n",
            "Reading package lists... Done\n",
            "Building dependency tree       \n",
            "Reading state information... Done\n",
            "0% [11 InRelease gpgv 15.4 kB]The following package was automatically installed and is no longer required:\n",
            "  libnvidia-common-440\n",
            "Use 'apt autoremove' to remove it.\n",
            "0% [12 InRelease gpgv 74.6 kB]The following NEW packages will be installed:\n",
            "  tensorflow-model-server\n",
            "0 upgraded, 1 newly installed, 0 to remove and 54 not upgraded.\n",
            "Need to get 210 MB of archives.\n",
            "After this operation, 0 B of additional disk space will be used.\n",
            "Get:1 http://storage.googleapis.com/tensorflow-serving-apt stable/tensorflow-model-server amd64 tensorflow-model-server all 2.3.0 [210 MB]\n",
            "Fetched 74.6 kB in 2s (35.0 kB/s)\n",
            "Reading package lists... Done\n",
            "Fetched 210 MB in 4s (50.6 MB/s)\n",
            "E: Failed to fetch http://storage.googleapis.com/tensorflow-serving-apt/pool/tensorflow-model-server/t/tensorflow-model-server/tensorflow-model-server_2.3.0_all.deb  rename failed, No such file or directory (/var/cache/apt/archives/partial/tensorflow-model-server_2.3.0_all.deb -> /var/cache/apt/archives/tensorflow-model-server_2.3.0_all.deb).\n",
            "E: Unable to fetch some archives, maybe run apt-get update or try with --fix-missing?\n"
          ],
          "name": "stdout"
        }
      ]
    },
    {
      "cell_type": "code",
      "metadata": {
        "id": "a1cAehxr-M9p",
        "colab_type": "code",
        "colab": {
          "base_uri": "https://localhost:8080/",
          "height": 455
        },
        "outputId": "c7dff426-3593-4602-b2e1-079acfa378bb"
      },
      "source": [
        "#!pip install tensorflow-gpu==1.13.1\n",
        "!pip install tensorflow-gpu==1.15"
      ],
      "execution_count": 1,
      "outputs": [
        {
          "output_type": "stream",
          "text": [
            "Requirement already satisfied: tensorflow-gpu==1.15 in /usr/local/lib/python3.6/dist-packages (1.15.0)\n",
            "Requirement already satisfied: gast==0.2.2 in /usr/local/lib/python3.6/dist-packages (from tensorflow-gpu==1.15) (0.2.2)\n",
            "Requirement already satisfied: tensorflow-estimator==1.15.1 in /usr/local/lib/python3.6/dist-packages (from tensorflow-gpu==1.15) (1.15.1)\n",
            "Requirement already satisfied: absl-py>=0.7.0 in /usr/local/lib/python3.6/dist-packages (from tensorflow-gpu==1.15) (0.9.0)\n",
            "Requirement already satisfied: google-pasta>=0.1.6 in /usr/local/lib/python3.6/dist-packages (from tensorflow-gpu==1.15) (0.2.0)\n",
            "Requirement already satisfied: numpy<2.0,>=1.16.0 in /usr/local/lib/python3.6/dist-packages (from tensorflow-gpu==1.15) (1.18.5)\n",
            "Requirement already satisfied: termcolor>=1.1.0 in /usr/local/lib/python3.6/dist-packages (from tensorflow-gpu==1.15) (1.1.0)\n",
            "Requirement already satisfied: keras-applications>=1.0.8 in /usr/local/lib/python3.6/dist-packages (from tensorflow-gpu==1.15) (1.0.8)\n",
            "Requirement already satisfied: astor>=0.6.0 in /usr/local/lib/python3.6/dist-packages (from tensorflow-gpu==1.15) (0.8.1)\n",
            "Requirement already satisfied: keras-preprocessing>=1.0.5 in /usr/local/lib/python3.6/dist-packages (from tensorflow-gpu==1.15) (1.1.2)\n",
            "Requirement already satisfied: six>=1.10.0 in /usr/local/lib/python3.6/dist-packages (from tensorflow-gpu==1.15) (1.15.0)\n",
            "Requirement already satisfied: tensorboard<1.16.0,>=1.15.0 in /usr/local/lib/python3.6/dist-packages (from tensorflow-gpu==1.15) (1.15.0)\n",
            "Requirement already satisfied: wrapt>=1.11.1 in /usr/local/lib/python3.6/dist-packages (from tensorflow-gpu==1.15) (1.12.1)\n",
            "Requirement already satisfied: protobuf>=3.6.1 in /usr/local/lib/python3.6/dist-packages (from tensorflow-gpu==1.15) (3.12.4)\n",
            "Requirement already satisfied: opt-einsum>=2.3.2 in /usr/local/lib/python3.6/dist-packages (from tensorflow-gpu==1.15) (3.3.0)\n",
            "Requirement already satisfied: grpcio>=1.8.6 in /usr/local/lib/python3.6/dist-packages (from tensorflow-gpu==1.15) (1.31.0)\n",
            "Requirement already satisfied: wheel>=0.26 in /usr/local/lib/python3.6/dist-packages (from tensorflow-gpu==1.15) (0.34.2)\n",
            "Requirement already satisfied: h5py in /usr/local/lib/python3.6/dist-packages (from keras-applications>=1.0.8->tensorflow-gpu==1.15) (2.10.0)\n",
            "Requirement already satisfied: markdown>=2.6.8 in /usr/local/lib/python3.6/dist-packages (from tensorboard<1.16.0,>=1.15.0->tensorflow-gpu==1.15) (3.2.2)\n",
            "Requirement already satisfied: setuptools>=41.0.0 in /usr/local/lib/python3.6/dist-packages (from tensorboard<1.16.0,>=1.15.0->tensorflow-gpu==1.15) (49.2.0)\n",
            "Requirement already satisfied: werkzeug>=0.11.15 in /usr/local/lib/python3.6/dist-packages (from tensorboard<1.16.0,>=1.15.0->tensorflow-gpu==1.15) (1.0.1)\n",
            "Requirement already satisfied: importlib-metadata; python_version < \"3.8\" in /usr/local/lib/python3.6/dist-packages (from markdown>=2.6.8->tensorboard<1.16.0,>=1.15.0->tensorflow-gpu==1.15) (1.7.0)\n",
            "Requirement already satisfied: zipp>=0.5 in /usr/local/lib/python3.6/dist-packages (from importlib-metadata; python_version < \"3.8\"->markdown>=2.6.8->tensorboard<1.16.0,>=1.15.0->tensorflow-gpu==1.15) (3.1.0)\n"
          ],
          "name": "stdout"
        }
      ]
    },
    {
      "cell_type": "code",
      "metadata": {
        "id": "zfxOPCl7-Wp7",
        "colab_type": "code",
        "colab": {
          "base_uri": "https://localhost:8080/",
          "height": 128
        },
        "outputId": "2cd876f1-1ad3-4e3d-fc78-6d6718a939bb"
      },
      "source": [
        "!pip install requests"
      ],
      "execution_count": 71,
      "outputs": [
        {
          "output_type": "stream",
          "text": [
            "Requirement already satisfied: requests in /usr/local/lib/python3.6/dist-packages (2.23.0)\n",
            "Requirement already satisfied: chardet<4,>=3.0.2 in /usr/local/lib/python3.6/dist-packages (from requests) (3.0.4)\n",
            "Requirement already satisfied: certifi>=2017.4.17 in /usr/local/lib/python3.6/dist-packages (from requests) (2020.6.20)\n",
            "Requirement already satisfied: idna<3,>=2.5 in /usr/local/lib/python3.6/dist-packages (from requests) (2.10)\n",
            "Requirement already satisfied: urllib3!=1.25.0,!=1.25.1,<1.26,>=1.21.1 in /usr/local/lib/python3.6/dist-packages (from requests) (1.24.3)\n"
          ],
          "name": "stdout"
        }
      ]
    },
    {
      "cell_type": "markdown",
      "metadata": {
        "id": "qsgbM_R2-ud_",
        "colab_type": "text"
      },
      "source": [
        "## Paso 2: Importar las dependencias del proyecto"
      ]
    },
    {
      "cell_type": "code",
      "metadata": {
        "id": "Y3taHerg-nkS",
        "colab_type": "code",
        "colab": {
          "base_uri": "https://localhost:8080/",
          "height": 35
        },
        "outputId": "53982161-f840-4922-cb9d-00a57ed3e3e0"
      },
      "source": [
        "import os\n",
        "import json\n",
        "import random\n",
        "import requests\n",
        "import subprocess\n",
        "import numpy as np\n",
        "import tensorflow as tf\n",
        "import matplotlib.pyplot as plt\n",
        "\n",
        "from tensorflow.keras.datasets import cifar10\n",
        "# para qwue se quede la visualizacion en el notebook y no en una ventana aparte\n",
        "%matplotlib inline \n",
        "tf.__version__"
      ],
      "execution_count": 5,
      "outputs": [
        {
          "output_type": "execute_result",
          "data": {
            "application/vnd.google.colaboratory.intrinsic+json": {
              "type": "string"
            },
            "text/plain": [
              "'1.15.0'"
            ]
          },
          "metadata": {
            "tags": []
          },
          "execution_count": 5
        }
      ]
    },
    {
      "cell_type": "markdown",
      "metadata": {
        "id": "90mWV1g6_TSt",
        "colab_type": "text"
      },
      "source": [
        "## Paso 3: Pre procesado de los datos"
      ]
    },
    {
      "cell_type": "markdown",
      "metadata": {
        "id": "dJsURBeA_XEe",
        "colab_type": "text"
      },
      "source": [
        "### Cargar el dataset"
      ]
    },
    {
      "cell_type": "code",
      "metadata": {
        "id": "FVgkziGT_RQZ",
        "colab_type": "code",
        "colab": {}
      },
      "source": [
        "(X_train, y_train), (X_test, y_test) = cifar10.load_data()"
      ],
      "execution_count": 6,
      "outputs": []
    },
    {
      "cell_type": "code",
      "metadata": {
        "id": "hqOyARxY_kC2",
        "colab_type": "code",
        "colab": {}
      },
      "source": [
        "class_names = ['avión', 'coche', 'pájaro', 'gato', 'ciervo', 'perro', 'rana', 'caballo', 'barco', 'camión']"
      ],
      "execution_count": 8,
      "outputs": []
    },
    {
      "cell_type": "markdown",
      "metadata": {
        "id": "B_adA5GI_ZGK",
        "colab_type": "text"
      },
      "source": [
        "### Normalización de imágenes"
      ]
    },
    {
      "cell_type": "code",
      "metadata": {
        "id": "VK4HUwLC_akD",
        "colab_type": "code",
        "colab": {}
      },
      "source": [
        "X_train = X_train / 255.0 # normalizar la imagenes\n",
        "X_test = X_test / 255.0"
      ],
      "execution_count": 9,
      "outputs": []
    },
    {
      "cell_type": "code",
      "metadata": {
        "id": "Q2A1OrRg_bD8",
        "colab_type": "code",
        "colab": {
          "base_uri": "https://localhost:8080/",
          "height": 35
        },
        "outputId": "458449be-3b89-4ce7-8b05-d1f939b0c8fc"
      },
      "source": [
        "X_train.shape"
      ],
      "execution_count": 10,
      "outputs": [
        {
          "output_type": "execute_result",
          "data": {
            "text/plain": [
              "(50000, 32, 32, 3)"
            ]
          },
          "metadata": {
            "tags": []
          },
          "execution_count": 10
        }
      ]
    },
    {
      "cell_type": "markdown",
      "metadata": {
        "id": "HO6nL_9sBLPo",
        "colab_type": "text"
      },
      "source": [
        "## Paso 4: Definir el modelo\n",
        "\n",
        "NOTA: Vamos a usar el mismo modelo que creamos en la Sección de Redes Neuronales Convolucionales"
      ]
    },
    {
      "cell_type": "code",
      "metadata": {
        "id": "FHyAvU8OA_aq",
        "colab_type": "code",
        "colab": {
          "base_uri": "https://localhost:8080/",
          "height": 92
        },
        "outputId": "73a6fed7-8786-4257-8b2e-e03403d33a93"
      },
      "source": [
        "model = tf.keras.models.Sequential()\n",
        "model.add(tf.keras.layers.Conv2D(filters=32, kernel_size=3, padding=\"same\", activation=\"relu\", input_shape=[32, 32, 3]))\n",
        "model.add(tf.keras.layers.Conv2D(filters=32, kernel_size=3, padding=\"same\", activation=\"relu\"))\n",
        "model.add(tf.keras.layers.MaxPool2D(pool_size=2, strides=2, padding='valid'))\n",
        "model.add(tf.keras.layers.Conv2D(filters=64, kernel_size=3, padding=\"same\", activation=\"relu\"))\n",
        "model.add(tf.keras.layers.Conv2D(filters=64, kernel_size=3, padding=\"same\", activation=\"relu\"))\n",
        "model.add(tf.keras.layers.MaxPool2D(pool_size=2, strides=2, padding='valid'))\n",
        "model.add(tf.keras.layers.Flatten())\n",
        "model.add(tf.keras.layers.Dense(units=128, activation='relu'))\n",
        "model.add(tf.keras.layers.Dense(units=10, activation='softmax'))"
      ],
      "execution_count": 11,
      "outputs": [
        {
          "output_type": "stream",
          "text": [
            "WARNING:tensorflow:From /usr/local/lib/python3.6/dist-packages/tensorflow_core/python/ops/resource_variable_ops.py:1630: calling BaseResourceVariable.__init__ (from tensorflow.python.ops.resource_variable_ops) with constraint is deprecated and will be removed in a future version.\n",
            "Instructions for updating:\n",
            "If using Keras pass *_constraint arguments to layers.\n"
          ],
          "name": "stdout"
        }
      ]
    },
    {
      "cell_type": "markdown",
      "metadata": {
        "id": "J-7vFhykBgMj",
        "colab_type": "text"
      },
      "source": [
        "### Compilar el modelo"
      ]
    },
    {
      "cell_type": "code",
      "metadata": {
        "id": "5nqrVFn3BkeS",
        "colab_type": "code",
        "colab": {}
      },
      "source": [
        "model.compile(optimizer='Adam', \n",
        "              loss='sparse_categorical_crossentropy', \n",
        "              metrics=['sparse_categorical_accuracy'])\n",
        "# sparse_categorical_crossentropy>> Para cada uno de los vectores q tan probable es que la imagen se clasificada en ella"
      ],
      "execution_count": 12,
      "outputs": []
    },
    {
      "cell_type": "markdown",
      "metadata": {
        "id": "JJ1X_hgBBmx9",
        "colab_type": "text"
      },
      "source": [
        "###  Entrenar el modelo"
      ]
    },
    {
      "cell_type": "code",
      "metadata": {
        "id": "I7FSeHUkBpUq",
        "colab_type": "code",
        "colab": {
          "base_uri": "https://localhost:8080/",
          "height": 619
        },
        "outputId": "f839aa1e-1b95-4e1d-cb8d-0f9b92e78d4d"
      },
      "source": [
        "model.fit(X_train, \n",
        "          y_train, \n",
        "          batch_size=128, \n",
        "          epochs=15)"
      ],
      "execution_count": 13,
      "outputs": [
        {
          "output_type": "stream",
          "text": [
            "Train on 50000 samples\n",
            "Epoch 1/15\n",
            "50000/50000 [==============================] - 8s 166us/sample - loss: 1.4932 - sparse_categorical_accuracy: 0.4612\n",
            "Epoch 2/15\n",
            "50000/50000 [==============================] - 5s 95us/sample - loss: 1.0420 - sparse_categorical_accuracy: 0.6317\n",
            "Epoch 3/15\n",
            "50000/50000 [==============================] - 5s 95us/sample - loss: 0.8622 - sparse_categorical_accuracy: 0.6992\n",
            "Epoch 4/15\n",
            "50000/50000 [==============================] - 5s 95us/sample - loss: 0.7484 - sparse_categorical_accuracy: 0.7404\n",
            "Epoch 5/15\n",
            "50000/50000 [==============================] - 5s 95us/sample - loss: 0.6666 - sparse_categorical_accuracy: 0.7671\n",
            "Epoch 6/15\n",
            "50000/50000 [==============================] - 5s 95us/sample - loss: 0.5925 - sparse_categorical_accuracy: 0.7945\n",
            "Epoch 7/15\n",
            "50000/50000 [==============================] - 5s 96us/sample - loss: 0.5276 - sparse_categorical_accuracy: 0.8154\n",
            "Epoch 8/15\n",
            "50000/50000 [==============================] - 5s 96us/sample - loss: 0.4582 - sparse_categorical_accuracy: 0.8400\n",
            "Epoch 9/15\n",
            "50000/50000 [==============================] - 5s 96us/sample - loss: 0.3946 - sparse_categorical_accuracy: 0.8615\n",
            "Epoch 10/15\n",
            "50000/50000 [==============================] - 5s 96us/sample - loss: 0.3345 - sparse_categorical_accuracy: 0.8818\n",
            "Epoch 11/15\n",
            "50000/50000 [==============================] - 5s 96us/sample - loss: 0.2819 - sparse_categorical_accuracy: 0.9007\n",
            "Epoch 12/15\n",
            "50000/50000 [==============================] - 5s 99us/sample - loss: 0.2339 - sparse_categorical_accuracy: 0.9169\n",
            "Epoch 13/15\n",
            "50000/50000 [==============================] - 5s 99us/sample - loss: 0.1795 - sparse_categorical_accuracy: 0.9361\n",
            "Epoch 14/15\n",
            "50000/50000 [==============================] - 5s 97us/sample - loss: 0.1580 - sparse_categorical_accuracy: 0.9438\n",
            "Epoch 15/15\n",
            "50000/50000 [==============================] - 5s 98us/sample - loss: 0.1369 - sparse_categorical_accuracy: 0.9509\n"
          ],
          "name": "stdout"
        },
        {
          "output_type": "execute_result",
          "data": {
            "text/plain": [
              "<tensorflow.python.keras.callbacks.History at 0x7f369f3b5dd8>"
            ]
          },
          "metadata": {
            "tags": []
          },
          "execution_count": 13
        }
      ]
    },
    {
      "cell_type": "markdown",
      "metadata": {
        "id": "g6k_gnv5BqdT",
        "colab_type": "text"
      },
      "source": [
        "### Evaluar el modelo"
      ]
    },
    {
      "cell_type": "code",
      "metadata": {
        "id": "l0nHalVeBtAy",
        "colab_type": "code",
        "colab": {
          "base_uri": "https://localhost:8080/",
          "height": 55
        },
        "outputId": "d53a66ac-f36a-403a-c87d-28309152226d"
      },
      "source": [
        "test_loss, test_accuracy = model.evaluate(X_test, y_test)"
      ],
      "execution_count": 14,
      "outputs": [
        {
          "output_type": "stream",
          "text": [
            "10000/10000 [==============================] - 1s 113us/sample - loss: 1.2320 - sparse_categorical_accuracy: 0.7386\n"
          ],
          "name": "stdout"
        }
      ]
    },
    {
      "cell_type": "code",
      "metadata": {
        "id": "u9q7jsTuBuxT",
        "colab_type": "code",
        "colab": {
          "base_uri": "https://localhost:8080/",
          "height": 35
        },
        "outputId": "0430cfcf-218d-4e73-ff4f-263ec9cedfbd"
      },
      "source": [
        "print(\"La precisión del modelo es de {} %\".format(test_accuracy*100.0))"
      ],
      "execution_count": 15,
      "outputs": [
        {
          "output_type": "stream",
          "text": [
            "La precisión del modelo es de 73.86000156402588 %\n"
          ],
          "name": "stdout"
        }
      ]
    },
    {
      "cell_type": "markdown",
      "metadata": {
        "id": "945L3-2rDjFe",
        "colab_type": "text"
      },
      "source": [
        "## Paso 5: Guardar el modelo para subir a producción"
      ]
    },
    {
      "cell_type": "markdown",
      "metadata": {
        "id": "5a5uCiniDmgY",
        "colab_type": "text"
      },
      "source": [
        "### Crear un directorio para el modelo"
      ]
    },
    {
      "cell_type": "code",
      "metadata": {
        "id": "YonroqRrC3sM",
        "colab_type": "code",
        "colab": {}
      },
      "source": [
        "MODEL_DIR = \"model/\"\n",
        "version = 1"
      ],
      "execution_count": 16,
      "outputs": []
    },
    {
      "cell_type": "code",
      "metadata": {
        "id": "07NyMUGYEMNF",
        "colab_type": "code",
        "colab": {
          "base_uri": "https://localhost:8080/",
          "height": 35
        },
        "outputId": "27b7996a-737a-4c78-a01f-c0c2b031137c"
      },
      "source": [
        "export_path = os.path.join(MODEL_DIR, str(version))\n",
        "export_path"
      ],
      "execution_count": 56,
      "outputs": [
        {
          "output_type": "execute_result",
          "data": {
            "application/vnd.google.colaboratory.intrinsic+json": {
              "type": "string"
            },
            "text/plain": [
              "'model/1'"
            ]
          },
          "metadata": {
            "tags": []
          },
          "execution_count": 56
        }
      ]
    },
    {
      "cell_type": "code",
      "metadata": {
        "id": "jln7YavbEczA",
        "colab_type": "code",
        "colab": {}
      },
      "source": [
        "if os.path.isdir(export_path):# si el directorio ya existe?\n",
        "    !rm -r {export_path} # borrar el directorio"
      ],
      "execution_count": 57,
      "outputs": []
    },
    {
      "cell_type": "code",
      "metadata": {
        "id": "jrtvGjWTVOLf",
        "colab_type": "code",
        "colab": {
          "base_uri": "https://localhost:8080/",
          "height": 35
        },
        "outputId": "dbaf973e-b5c5-464c-dd51-0b5e29f0145b"
      },
      "source": [
        "# EJEMPLO DE MODEL INPUT Y OUTPUT\n",
        "model.input"
      ],
      "execution_count": 58,
      "outputs": [
        {
          "output_type": "execute_result",
          "data": {
            "text/plain": [
              "<tf.Tensor 'conv2d_input:0' shape=(?, 32, 32, 3) dtype=float32>"
            ]
          },
          "metadata": {
            "tags": []
          },
          "execution_count": 58
        }
      ]
    },
    {
      "cell_type": "code",
      "metadata": {
        "id": "Y0tZwdIWVjkk",
        "colab_type": "code",
        "colab": {
          "base_uri": "https://localhost:8080/",
          "height": 35
        },
        "outputId": "73db1a7c-65da-4a3c-c811-bcbd1c3b37aa"
      },
      "source": [
        "# EJEMPLO DE MODEL INPUT Y OUTPUT\n",
        "model.output"
      ],
      "execution_count": 59,
      "outputs": [
        {
          "output_type": "execute_result",
          "data": {
            "text/plain": [
              "<tf.Tensor 'dense_1/Softmax:0' shape=(?, 10) dtype=float32>"
            ]
          },
          "metadata": {
            "tags": []
          },
          "execution_count": 59
        }
      ]
    },
    {
      "cell_type": "markdown",
      "metadata": {
        "id": "0RA2HuIUDrDQ",
        "colab_type": "text"
      },
      "source": [
        "### Guardar el modelo para TensorFlow Serving"
      ]
    },
    {
      "cell_type": "code",
      "metadata": {
        "id": "19DG8IkIDv4S",
        "colab_type": "code",
        "colab": {
          "base_uri": "https://localhost:8080/",
          "height": 72
        },
        "outputId": "f8d20c62-8c04-4327-9f6c-268ae7c0fcaf"
      },
      "source": [
        "tf.saved_model.simple_save(tf.keras.backend.get_session(), export_dir=export_path, inputs={\"input_image\":model.input}, outputs={t.name:t for t in model.outputs})\n"
      ],
      "execution_count": 60,
      "outputs": [
        {
          "output_type": "stream",
          "text": [
            "INFO:tensorflow:Assets added to graph.\n",
            "INFO:tensorflow:No assets to write.\n",
            "INFO:tensorflow:SavedModel written to: model/1/saved_model.pb\n"
          ],
          "name": "stdout"
        }
      ]
    },
    {
      "cell_type": "markdown",
      "metadata": {
        "id": "1o8BlXcBFvIm",
        "colab_type": "text"
      },
      "source": [
        "## Paso 6: Configurar el entorno de producción"
      ]
    },
    {
      "cell_type": "markdown",
      "metadata": {
        "id": "rSFWzxOrF0ft",
        "colab_type": "text"
      },
      "source": [
        "### Exportar el MODEL_DIR a las variables de entorno"
      ]
    },
    {
      "cell_type": "code",
      "metadata": {
        "id": "BS6wsQthLX_i",
        "colab_type": "code",
        "colab": {}
      },
      "source": [
        "os.environ['MODEL_DIR'] = os.path.abspath(MODEL_DIR)"
      ],
      "execution_count": 61,
      "outputs": []
    },
    {
      "cell_type": "code",
      "metadata": {
        "id": "Zx9z8kOge6A0",
        "colab_type": "code",
        "colab": {
          "base_uri": "https://localhost:8080/",
          "height": 55
        },
        "outputId": "c0e6571f-868c-4e25-962f-7342f27ec50b"
      },
      "source": [
        "os.environ"
      ],
      "execution_count": 75,
      "outputs": [
        {
          "output_type": "execute_result",
          "data": {
            "text/plain": [
              "environ({'NO_GCE_CHECK': 'True', 'GCS_READ_CACHE_BLOCK_SIZE_MB': '16', 'CLOUDSDK_CONFIG': '/content/.config', '__EGL_VENDOR_LIBRARY_DIRS': '/usr/lib64-nvidia:/usr/share/glvnd/egl_vendor.d/', 'CUDA_VERSION': '10.1.243', 'PATH': '/usr/local/nvidia/bin:/usr/local/cuda/bin:/usr/local/sbin:/usr/local/bin:/usr/sbin:/usr/bin:/sbin:/bin:/tools/node/bin:/tools/google-cloud-sdk/bin:/opt/bin', 'HOME': '/root', 'LD_LIBRARY_PATH': '/usr/lib64-nvidia', 'LANG': 'en_US.UTF-8', 'SHELL': '/bin/bash', 'LIBRARY_PATH': '/usr/local/cuda/lib64/stubs', 'CUDA_PKG_VERSION': '10-1=10.1.243-1', 'SHLVL': '1', 'GCE_METADATA_TIMEOUT': '0', 'NCCL_VERSION': '2.4.8', 'NVIDIA_VISIBLE_DEVICES': 'all', 'TF_FORCE_GPU_ALLOW_GROWTH': 'true', 'DEBIAN_FRONTEND': 'noninteractive', 'CUDNN_VERSION': '7.6.5.32', 'LAST_FORCED_REBUILD': '20200729', 'JPY_PARENT_PID': '24', 'PYTHONPATH': '/env/python', 'DATALAB_SETTINGS_OVERRIDES': '{\"kernelManagerProxyPort\":6000,\"kernelManagerProxyHost\":\"172.28.0.3\",\"jupyterArgs\":[\"--ip=\\\\\"172.28.0.2\\\\\"\"]}', 'ENV': '/root/.bashrc', 'GLIBCXX_FORCE_NEW': '1', 'NVIDIA_DRIVER_CAPABILITIES': 'compute,utility', '_': '/tools/node/bin/node', 'LD_PRELOAD': '/usr/lib/x86_64-linux-gnu/libtcmalloc.so.4', 'NVIDIA_REQUIRE_CUDA': 'cuda>=10.1 brand=tesla,driver>=384,driver<385 brand=tesla,driver>=396,driver<397 brand=tesla,driver>=410,driver<411', 'OLDPWD': '/', 'HOSTNAME': '22ed4c5ddcca', 'COLAB_GPU': '1', 'PWD': '/', 'CLOUDSDK_PYTHON': 'python3', 'GLIBCPP_FORCE_NEW': '1', 'PYTHONWARNINGS': 'ignore:::pip._internal.cli.base_command', 'TBE_CREDS_ADDR': '172.28.0.1:8008', 'TERM': 'xterm-color', 'CLICOLOR': '1', 'PAGER': 'cat', 'GIT_PAGER': 'cat', 'MPLBACKEND': 'module://ipykernel.pylab.backend_inline', 'MODEL_DIR': '/content/model', 'KMP_DUPLICATE_LIB_OK': 'True', 'KMP_INIT_AT_FORK': 'FALSE'})"
            ]
          },
          "metadata": {
            "tags": []
          },
          "execution_count": 75
        }
      ]
    },
    {
      "cell_type": "markdown",
      "metadata": {
        "id": "gA1o-eXnf2N_",
        "colab_type": "text"
      },
      "source": [
        ""
      ]
    },
    {
      "cell_type": "markdown",
      "metadata": {
        "id": "8TXejqj5F5oj",
        "colab_type": "text"
      },
      "source": [
        "### Ejecutar la API REST de TensorFlow Serving"
      ]
    },
    {
      "cell_type": "code",
      "metadata": {
        "id": "oWjUhJA4KGWy",
        "colab_type": "code",
        "colab": {
          "base_uri": "https://localhost:8080/",
          "height": 35
        },
        "outputId": "e4989917-eb74-4436-e833-b320b5c45f9e"
      },
      "source": [
        "%%bash --bg\n",
        "nohup tensorflow_model_server --rest_api_port=8000 --model_name=cifar10 --model_base_path=\"${MODEL_DIR}\" >server.log 2>&1"
      ],
      "execution_count": 63,
      "outputs": [
        {
          "output_type": "stream",
          "text": [
            "Starting job # 4 in a separate thread.\n"
          ],
          "name": "stdout"
        }
      ]
    },
    {
      "cell_type": "code",
      "metadata": {
        "id": "iPa7fGZ5NHL5",
        "colab_type": "code",
        "colab": {
          "base_uri": "https://localhost:8080/",
          "height": 35
        },
        "outputId": "31a19afd-4d4d-4c68-cf47-1bd09d47f53d"
      },
      "source": [
        "!tail server.log"
      ],
      "execution_count": 65,
      "outputs": [
        {
          "output_type": "stream",
          "text": [
            "nohup: failed to run command 'tensorflow_model_server': No such file or directory\n"
          ],
          "name": "stdout"
        }
      ]
    },
    {
      "cell_type": "markdown",
      "metadata": {
        "id": "ICEqKpKUOC2F",
        "colab_type": "text"
      },
      "source": [
        "## Paso 7: Crear nuestra primera petición por POST"
      ]
    },
    {
      "cell_type": "code",
      "metadata": {
        "id": "AvjZyyPIN3Zq",
        "colab_type": "code",
        "colab": {
          "base_uri": "https://localhost:8080/",
          "height": 35
        },
        "outputId": "5a8d3b32-fda9-48da-a799-9673332e4850"
      },
      "source": [
        "random_image = np.random.randint(0, len(X_test))\n",
        "random_image"
      ],
      "execution_count": 46,
      "outputs": [
        {
          "output_type": "execute_result",
          "data": {
            "text/plain": [
              "4831"
            ]
          },
          "metadata": {
            "tags": []
          },
          "execution_count": 46
        }
      ]
    },
    {
      "cell_type": "markdown",
      "metadata": {
        "id": "tqOfIBMNOK8p",
        "colab_type": "text"
      },
      "source": [
        "### Crear el objeto de datos en JSON"
      ]
    },
    {
      "cell_type": "code",
      "metadata": {
        "id": "nB57JR6wONOI",
        "colab_type": "code",
        "colab": {}
      },
      "source": [
        "data = json.dumps({\"signature_name\":\"serving_default\", \"instances\":[X_test[random_image].tolist()]})"
      ],
      "execution_count": 66,
      "outputs": []
    },
    {
      "cell_type": "code",
      "metadata": {
        "id": "ez6JF3yIPdYZ",
        "colab_type": "code",
        "colab": {
          "base_uri": "https://localhost:8080/",
          "height": 199
        },
        "outputId": "83801a4a-557c-43df-d547-48eb1413ee98"
      },
      "source": [
        "data"
      ],
      "execution_count": 74,
      "outputs": [
        {
          "output_type": "execute_result",
          "data": {
            "application/vnd.google.colaboratory.intrinsic+json": {
              "type": "string"
            },
            "text/plain": [
              "'{\"signature_name\": \"serving_default\", \"instances\": [[[[0.996078431372549, 0.996078431372549, 0.996078431372549], [0.996078431372549, 0.996078431372549, 0.996078431372549], [0.996078431372549, 0.996078431372549, 0.996078431372549], [0.996078431372549, 0.996078431372549, 0.996078431372549], [0.996078431372549, 0.996078431372549, 0.996078431372549], [0.996078431372549, 0.996078431372549, 0.996078431372549], [0.996078431372549, 0.996078431372549, 0.996078431372549], [0.996078431372549, 0.996078431372549, 0.996078431372549], [0.996078431372549, 0.996078431372549, 0.996078431372549], [1.0, 0.996078431372549, 1.0], [1.0, 0.9921568627450981, 1.0], [0.9725490196078431, 0.9764705882352941, 0.9764705882352941], [0.9529411764705882, 0.9882352941176471, 0.9803921568627451], [0.7803921568627451, 0.8509803921568627, 0.8431372549019608], [0.5686274509803921, 0.6666666666666666, 0.6588235294117647], [0.4745098039215686, 0.596078431372549, 0.596078431372549], [0.4235294117647059, 0.5764705882352941, 0.5843137254901961], [0.40784313725490196, 0.5764705882352941, 0.596078431372549], [0.40784313725490196, 0.5803921568627451, 0.6039215686274509], [0.43137254901960786, 0.596078431372549, 0.615686274509804], [0.45098039215686275, 0.6078431372549019, 0.6235294117647059], [0.4627450980392157, 0.615686274509804, 0.6235294117647059], [0.47843137254901963, 0.6196078431372549, 0.6313725490196078], [0.47058823529411764, 0.596078431372549, 0.6313725490196078], [0.27450980392156865, 0.4, 0.36470588235294116], [0.24705882352941178, 0.35294117647058826, 0.3058823529411765], [0.20784313725490197, 0.29411764705882354, 0.2549019607843137], [0.14901960784313725, 0.22745098039215686, 0.1450980392156863], [0.13333333333333333, 0.21176470588235294, 0.12156862745098039], [0.1843137254901961, 0.23921568627450981, 0.2], [0.37254901960784315, 0.403921568627451, 0.3568627450980392], [0.8862745098039215, 0.8980392156862745, 0.8627450980392157]], [[0.996078431372549, 0.996078431372549, 0.996078431372549], [0.996078431372549, 0.996078431372549, 0.996078431372549], [0.996078431372549, 0.996078431372549, 0.996078431372549], [0.996078431372549, 0.996078431372549, 0.996078431372549], [0.996078431372549, 0.996078431372549, 0.996078431372549], [0.996078431372549, 0.996078431372549, 0.996078431372549], [0.996078431372549, 0.996078431372549, 0.996078431372549], [0.996078431372549, 0.996078431372549, 0.996078431372549], [1.0, 0.9921568627450981, 0.996078431372549], [1.0, 0.9921568627450981, 0.996078431372549], [0.996078431372549, 0.9921568627450981, 0.996078431372549], [0.9725490196078431, 0.9921568627450981, 0.9882352941176471], [0.7372549019607844, 0.807843137254902, 0.788235294117647], [0.44313725490196076, 0.5843137254901961, 0.5568627450980392], [0.43529411764705883, 0.615686274509804, 0.6], [0.38823529411764707, 0.5764705882352941, 0.5764705882352941], [0.30980392156862746, 0.5098039215686274, 0.5254901960784314], [0.28627450980392155, 0.49019607843137253, 0.5137254901960784], [0.3176470588235294, 0.5098039215686274, 0.5215686274509804], [0.29411764705882354, 0.47843137254901963, 0.4745098039215686], [0.28627450980392155, 0.4588235294117647, 0.4549019607843137], [0.30980392156862746, 0.47843137254901963, 0.4627450980392157], [0.3254901960784314, 0.48627450980392156, 0.4745098039215686], [0.35294117647058826, 0.4823529411764706, 0.5058823529411764], [0.19215686274509805, 0.3176470588235294, 0.26666666666666666], [0.12156862745098039, 0.23529411764705882, 0.1607843137254902], [0.16862745098039217, 0.2627450980392157, 0.18823529411764706], [0.29411764705882354, 0.3843137254901961, 0.2549019607843137], [0.18823529411764706, 0.27058823529411763, 0.11764705882352941], [0.10980392156862745, 0.16470588235294117, 0.08235294117647059], [0.1411764705882353, 0.1803921568627451, 0.10588235294117647], [0.6, 0.6196078431372549, 0.5764705882352941]], [[0.996078431372549, 0.996078431372549, 0.996078431372549], [0.996078431372549, 0.996078431372549, 0.996078431372549], [0.996078431372549, 0.996078431372549, 0.996078431372549], [0.996078431372549, 0.996078431372549, 0.996078431372549], [0.996078431372549, 0.996078431372549, 0.996078431372549], [0.996078431372549, 0.996078431372549, 0.996078431372549], [0.996078431372549, 0.996078431372549, 0.996078431372549], [0.996078431372549, 0.996078431372549, 0.996078431372549], [1.0, 0.9921568627450981, 0.996078431372549], [0.996078431372549, 0.984313725490196, 0.9921568627450981], [0.9882352941176471, 1.0, 0.996078431372549], [0.7843137254901961, 0.8431372549019608, 0.8274509803921568], [0.4588235294117647, 0.5725490196078431, 0.5333333333333333], [0.48627450980392156, 0.6745098039215687, 0.6235294117647059], [0.47843137254901963, 0.7019607843137254, 0.6549019607843137], [0.3803921568627451, 0.596078431372549, 0.5686274509803921], [0.3058823529411765, 0.5176470588235295, 0.5098039215686274], [0.3254901960784314, 0.5294117647058824, 0.5372549019607843], [0.33725490196078434, 0.5372549019607843, 0.5294117647058824], [0.2980392156862745, 0.49411764705882355, 0.4745098039215686], [0.2784313725490196, 0.4666666666666667, 0.44313725490196076], [0.3607843137254902, 0.5411764705882353, 0.5098039215686274], [0.2901960784313726, 0.4627450980392157, 0.43137254901960786], [0.29411764705882354, 0.41568627450980394, 0.42745098039215684], [0.17254901960784313, 0.2901960784313726, 0.22745098039215686], [0.25882352941176473, 0.3686274509803922, 0.27450980392156865], [0.16470588235294117, 0.2627450980392157, 0.16470588235294117], [0.37254901960784315, 0.4745098039215686, 0.30980392156862746], [0.33725490196078434, 0.41568627450980394, 0.2196078431372549], [0.1450980392156863, 0.20392156862745098, 0.08627450980392157], [0.33725490196078434, 0.3764705882352941, 0.2784313725490196], [0.36470588235294116, 0.38823529411764707, 0.3333333333333333]], [[0.996078431372549, 0.996078431372549, 0.996078431372549], [0.996078431372549, 0.996078431372549, 0.996078431372549], [0.996078431372549, 0.996078431372549, 0.996078431372549], [0.996078431372549, 0.996078431372549, 0.996078431372549], [0.996078431372549, 0.996078431372549, 0.996078431372549], [0.996078431372549, 0.996078431372549, 0.996078431372549], [0.9921568627450981, 0.9921568627450981, 0.9921568627450981], [0.9882352941176471, 0.9882352941176471, 0.9882352941176471], [0.9921568627450981, 0.9882352941176471, 0.9882352941176471], [0.9921568627450981, 0.9921568627450981, 0.996078431372549], [0.8588235294117647, 0.9098039215686274, 0.8941176470588236], [0.4666666666666667, 0.5764705882352941, 0.5411764705882353], [0.5333333333333333, 0.6901960784313725, 0.6352941176470588], [0.5764705882352941, 0.7725490196078432, 0.6980392156862745], [0.47843137254901963, 0.6980392156862745, 0.611764705882353], [0.36470588235294116, 0.5647058823529412, 0.5019607843137255], [0.3607843137254902, 0.5529411764705883, 0.5098039215686274], [0.34509803921568627, 0.5215686274509804, 0.4980392156862745], [0.24705882352941178, 0.4392156862745098, 0.4196078431372549], [0.24313725490196078, 0.44313725490196076, 0.41568627450980394], [0.3058823529411765, 0.4980392156862745, 0.4627450980392157], [0.39215686274509803, 0.5764705882352941, 0.5372549019607843], [0.3176470588235294, 0.49019607843137253, 0.4549019607843137], [0.25098039215686274, 0.35294117647058826, 0.35294117647058826], [0.23921568627450981, 0.33725490196078434, 0.2627450980392157], [0.22745098039215686, 0.3215686274509804, 0.2235294117647059], [0.08235294117647059, 0.16862745098039217, 0.06666666666666667], [0.25882352941176473, 0.34901960784313724, 0.1843137254901961], [0.34901960784313724, 0.4235294117647059, 0.2235294117647059], [0.1450980392156863, 0.2, 0.07450980392156863], [0.3333333333333333, 0.3764705882352941, 0.27058823529411763], [0.25882352941176473, 0.29411764705882354, 0.2235294117647059]], [[0.996078431372549, 0.996078431372549, 0.996078431372549], [0.996078431372549, 0.996078431372549, 0.996078431372549], [0.996078431372549, 0.996078431372549, 0.996078431372549], [0.996078431372549, 0.996078431372549, 0.996078431372549], [0.996078431372549, 0.996078431372549, 0.996078431372549], [0.996078431372549, 0.996078431372549, 0.996078431372549], [0.9921568627450981, 0.9921568627450981, 0.9921568627450981], [0.9882352941176471, 0.9882352941176471, 0.9882352941176471], [0.984313725490196, 0.9921568627450981, 0.9882352941176471], [0.9254901960784314, 0.9607843137254902, 0.9529411764705882], [0.5333333333333333, 0.6392156862745098, 0.6039215686274509], [0.4627450980392157, 0.6274509803921569, 0.5725490196078431], [0.48627450980392156, 0.6784313725490196, 0.611764705882353], [0.4745098039215686, 0.6666666666666666, 0.5803921568627451], [0.4470588235294118, 0.6392156862745098, 0.5411764705882353], [0.39215686274509803, 0.5725490196078431, 0.49411764705882355], [0.42745098039215684, 0.6, 0.5450980392156862], [0.34901960784313724, 0.5137254901960784, 0.4745098039215686], [0.23921568627450981, 0.4196078431372549, 0.4], [0.23137254901960785, 0.4196078431372549, 0.4], [0.27450980392156865, 0.4549019607843137, 0.42745098039215684], [0.29411764705882354, 0.4666666666666667, 0.43529411764705883], [0.3058823529411765, 0.4588235294117647, 0.43137254901960786], [0.1843137254901961, 0.2549019607843137, 0.24705882352941178], [0.17254901960784313, 0.24313725490196078, 0.16470588235294117], [0.20784313725490197, 0.27058823529411763, 0.1843137254901961], [0.10980392156862745, 0.17254901960784313, 0.09019607843137255], [0.13333333333333333, 0.2, 0.07058823529411765], [0.23137254901960785, 0.28627450980392155, 0.1450980392156863], [0.13725490196078433, 0.1843137254901961, 0.09411764705882353], [0.21176470588235294, 0.2627450980392157, 0.1607843137254902], [0.20784313725490197, 0.2549019607843137, 0.16862745098039217]], [[0.996078431372549, 0.996078431372549, 0.996078431372549], [0.996078431372549, 0.996078431372549, 0.996078431372549], [0.996078431372549, 0.996078431372549, 0.996078431372549], [0.996078431372549, 0.996078431372549, 0.996078431372549], [0.996078431372549, 0.996078431372549, 0.996078431372549], [0.996078431372549, 0.996078431372549, 0.996078431372549], [0.9921568627450981, 0.9882352941176471, 0.9882352941176471], [0.9921568627450981, 0.9921568627450981, 0.9921568627450981], [0.9764705882352941, 0.996078431372549, 0.9921568627450981], [0.6235294117647059, 0.7137254901960784, 0.6862745098039216], [0.42745098039215684, 0.5843137254901961, 0.5294117647058824], [0.4627450980392157, 0.6705882352941176, 0.6], [0.43529411764705883, 0.6549019607843137, 0.5803921568627451], [0.4980392156862745, 0.6941176470588235, 0.615686274509804], [0.43137254901960786, 0.6078431372549019, 0.5333333333333333], [0.38823529411764707, 0.5686274509803921, 0.5058823529411764], [0.3607843137254902, 0.5372549019607843, 0.4980392156862745], [0.29411764705882354, 0.4666666666666667, 0.44313725490196076], [0.23137254901960785, 0.40784313725490196, 0.403921568627451], [0.24313725490196078, 0.41568627450980394, 0.4117647058823529], [0.22745098039215686, 0.38823529411764707, 0.3803921568627451], [0.23529411764705882, 0.39215686274509803, 0.3764705882352941], [0.3137254901960784, 0.45098039215686275, 0.43529411764705883], [0.12156862745098039, 0.16470588235294117, 0.15294117647058825], [0.023529411764705882, 0.06274509803921569, 0.0], [0.054901960784313725, 0.09019607843137255, 0.03529411764705882], [0.18823529411764706, 0.2235294117647059, 0.17647058823529413], [0.054901960784313725, 0.09803921568627451, 0.023529411764705882], [0.050980392156862744, 0.09019607843137255, 0.023529411764705882], [0.08627450980392157, 0.11764705882352941, 0.0784313725490196], [0.09411764705882353, 0.1411764705882353, 0.054901960784313725], [0.13725490196078433, 0.18823529411764706, 0.09019607843137255]], [[0.9921568627450981, 0.996078431372549, 0.996078431372549], [0.996078431372549, 0.996078431372549, 0.996078431372549], [0.996078431372549, 0.996078431372549, 0.9921568627450981], [0.996078431372549, 0.996078431372549, 0.9921568627450981], [0.996078431372549, 0.996078431372549, 0.9921568627450981], [0.996078431372549, 0.996078431372549, 0.9921568627450981], [0.9882352941176471, 0.9921568627450981, 0.9921568627450981], [0.984313725490196, 0.9921568627450981, 0.9921568627450981], [0.7215686274509804, 0.7686274509803922, 0.7568627450980392], [0.396078431372549, 0.5254901960784314, 0.49019607843137253], [0.43529411764705883, 0.6235294117647059, 0.5686274509803921], [0.40784313725490196, 0.6313725490196078, 0.5607843137254902], [0.39215686274509803, 0.611764705882353, 0.5450980392156862], [0.40784313725490196, 0.6, 0.5450980392156862], [0.3568627450980392, 0.5333333333333333, 0.49411764705882355], [0.3176470588235294, 0.5019607843137255, 0.4745098039215686], [0.25098039215686274, 0.44313725490196076, 0.42745098039215684], [0.22745098039215686, 0.42745098039215684, 0.4196078431372549], [0.23921568627450981, 0.4117647058823529, 0.41568627450980394], [0.2627450980392157, 0.4235294117647059, 0.42745098039215684], [0.26666666666666666, 0.4235294117647059, 0.41568627450980394], [0.25882352941176473, 0.40784313725490196, 0.396078431372549], [0.3058823529411765, 0.42745098039215684, 0.4196078431372549], [0.07450980392156863, 0.10588235294117647, 0.08627450980392157], [0.03137254901960784, 0.054901960784313725, 0.0], [0.0392156862745098, 0.06274509803921569, 0.0196078431372549], [0.2235294117647059, 0.25098039215686274, 0.2235294117647059], [0.06666666666666667, 0.10196078431372549, 0.054901960784313725], [0.043137254901960784, 0.07450980392156863, 0.050980392156862744], [0.10196078431372549, 0.13333333333333333, 0.12941176470588237], [0.1450980392156863, 0.19215686274509805, 0.12156862745098039], [0.16862745098039217, 0.2196078431372549, 0.11764705882352941]], [[0.984313725490196, 1.0, 0.996078431372549], [0.9921568627450981, 1.0, 0.9882352941176471], [0.9921568627450981, 0.996078431372549, 0.9764705882352941], [0.9921568627450981, 0.9921568627450981, 0.9725490196078431], [0.996078431372549, 0.984313725490196, 0.9686274509803922], [0.9803921568627451, 0.9882352941176471, 0.9764705882352941], [0.9568627450980393, 0.9921568627450981, 0.9921568627450981], [0.7843137254901961, 0.8549019607843137, 0.8509803921568627], [0.2901960784313726, 0.39215686274509803, 0.39215686274509803], [0.1843137254901961, 0.33725490196078434, 0.3333333333333333], [0.2901960784313726, 0.4549019607843137, 0.45098039215686275], [0.32941176470588235, 0.5058823529411764, 0.4980392156862745], [0.3137254901960784, 0.48627450980392156, 0.47843137254901963], [0.3058823529411765, 0.4666666666666667, 0.4627450980392157], [0.32941176470588235, 0.4823529411764706, 0.47843137254901963], [0.3215686274509804, 0.48627450980392156, 0.47843137254901963], [0.28627450980392155, 0.47058823529411764, 0.45098039215686275], [0.2784313725490196, 0.4745098039215686, 0.4470588235294118], [0.2901960784313726, 0.4627450980392157, 0.4470588235294118], [0.2901960784313726, 0.4627450980392157, 0.4392156862745098], [0.27058823529411763, 0.45098039215686275, 0.4196078431372549], [0.29411764705882354, 0.44313725490196076, 0.40784313725490196], [0.2549019607843137, 0.3607843137254902, 0.32941176470588235], [0.0392156862745098, 0.08235294117647059, 0.047058823529411764], [0.13333333333333333, 0.17254901960784313, 0.12941176470588237], [0.17254901960784313, 0.2235294117647059, 0.17647058823529413], [0.21176470588235294, 0.2784313725490196, 0.23921568627450981], [0.050980392156862744, 0.12156862745098039, 0.08235294117647059], [0.10196078431372549, 0.16470588235294117, 0.1411764705882353], [0.17254901960784313, 0.22745098039215686, 0.2], [0.1450980392156863, 0.19607843137254902, 0.12941176470588237], [0.11764705882352941, 0.16470588235294117, 0.07058823529411765]], [[0.996078431372549, 0.996078431372549, 0.996078431372549], [1.0, 0.996078431372549, 0.9882352941176471], [0.9921568627450981, 0.9921568627450981, 0.9803921568627451], [0.9921568627450981, 0.9882352941176471, 0.9725490196078431], [0.9921568627450981, 1.0, 0.984313725490196], [0.9333333333333333, 0.9686274509803922, 0.9607843137254902], [0.7725490196078432, 0.8549019607843137, 0.8509803921568627], [0.5529411764705883, 0.6823529411764706, 0.6823529411764706], [0.4666666666666667, 0.6196078431372549, 0.6274509803921569], [0.37254901960784315, 0.5411764705882353, 0.5607843137254902], [0.3176470588235294, 0.48627450980392156, 0.5058823529411764], [0.3176470588235294, 0.4823529411764706, 0.5019607843137255], [0.2784313725490196, 0.4470588235294118, 0.4666666666666667], [0.23529411764705882, 0.39215686274509803, 0.4117647058823529], [0.20784313725490197, 0.36470588235294116, 0.3764705882352941], [0.23137254901960785, 0.4, 0.396078431372549], [0.2627450980392157, 0.4470588235294118, 0.43137254901960786], [0.27450980392156865, 0.47058823529411764, 0.44313725490196076], [0.28627450980392155, 0.4666666666666667, 0.4549019607843137], [0.30980392156862746, 0.49411764705882355, 0.47843137254901963], [0.28627450980392155, 0.47058823529411764, 0.43529411764705883], [0.3137254901960784, 0.4588235294117647, 0.41568627450980394], [0.1607843137254902, 0.25098039215686274, 0.21568627450980393], [0.2, 0.25098039215686274, 0.21176470588235294], [0.6509803921568628, 0.7019607843137254, 0.6627450980392157], [0.615686274509804, 0.6823529411764706, 0.6431372549019608], [0.3137254901960784, 0.396078431372549, 0.34901960784313724], [0.1411764705882353, 0.2235294117647059, 0.1803921568627451], [0.1568627450980392, 0.2196078431372549, 0.1843137254901961], [0.12549019607843137, 0.1803921568627451, 0.13725490196078433], [0.07450980392156863, 0.12156862745098039, 0.050980392156862744], [0.08235294117647059, 0.11372549019607843, 0.027450980392156862]], [[1.0, 0.9882352941176471, 0.996078431372549], [0.996078431372549, 0.9882352941176471, 0.9921568627450981], [0.9882352941176471, 0.984313725490196, 0.9882352941176471], [0.9647058823529412, 0.9764705882352941, 0.9803921568627451], [0.8156862745098039, 0.8784313725490196, 0.8784313725490196], [0.6235294117647059, 0.7137254901960784, 0.7215686274509804], [0.5333333333333333, 0.6666666666666666, 0.6705882352941176], [0.5176470588235295, 0.6784313725490196, 0.6941176470588235], [0.49411764705882355, 0.6745098039215687, 0.6941176470588235], [0.4745098039215686, 0.6627450980392157, 0.6941176470588235], [0.4588235294117647, 0.6470588235294118, 0.6784313725490196], [0.44313725490196076, 0.6313725490196078, 0.6627450980392157], [0.4196078431372549, 0.6078431372549019, 0.6431372549019608], [0.40784313725490196, 0.5843137254901961, 0.6196078431372549], [0.36470588235294116, 0.5372549019607843, 0.5647058823529412], [0.2901960784313726, 0.47843137254901963, 0.49019607843137253], [0.2784313725490196, 0.47843137254901963, 0.47843137254901963], [0.2901960784313726, 0.49411764705882355, 0.48627450980392156], [0.2235294117647059, 0.4196078431372549, 0.43137254901960786], [0.2235294117647059, 0.41568627450980394, 0.4235294117647059], [0.2784313725490196, 0.4549019607843137, 0.43529411764705883], [0.24313725490196078, 0.37254901960784315, 0.3333333333333333], [0.12549019607843137, 0.20784313725490197, 0.16470588235294117], [0.28627450980392155, 0.32941176470588235, 0.29411764705882354], [0.4196078431372549, 0.4627450980392157, 0.43137254901960786], [0.3058823529411765, 0.3568627450980392, 0.3215686274509804], [0.21568627450980393, 0.27450980392156865, 0.23529411764705882], [0.12941176470588237, 0.19215686274509805, 0.15294117647058825], [0.09019607843137255, 0.12941176470588237, 0.08235294117647059], [0.07058823529411765, 0.09803921568627451, 0.043137254901960784], [0.06666666666666667, 0.09411764705882353, 0.0196078431372549], [0.11764705882352941, 0.13725490196078433, 0.050980392156862744]], [[0.996078431372549, 0.9921568627450981, 0.996078431372549], [0.9803921568627451, 0.996078431372549, 1.0], [0.9176470588235294, 0.9529411764705882, 0.9607843137254902], [0.6823529411764706, 0.7529411764705882, 0.7647058823529411], [0.49411764705882355, 0.6196078431372549, 0.6352941176470588], [0.4745098039215686, 0.6274509803921569, 0.6470588235294118], [0.4745098039215686, 0.6549019607843137, 0.6745098039215687], [0.4470588235294118, 0.6509803921568628, 0.6745098039215687], [0.43137254901960786, 0.6431372549019608, 0.6784313725490196], [0.43137254901960786, 0.6352941176470588, 0.6823529411764706], [0.4196078431372549, 0.6274509803921569, 0.6745098039215687], [0.4196078431372549, 0.6235294117647059, 0.6705882352941176], [0.40784313725490196, 0.615686274509804, 0.6627450980392157], [0.40784313725490196, 0.6078431372549019, 0.6549019607843137], [0.403921568627451, 0.6, 0.6431372549019608], [0.403921568627451, 0.6039215686274509, 0.6352941176470588], [0.3843137254901961, 0.592156862745098, 0.611764705882353], [0.3607843137254902, 0.5725490196078431, 0.5843137254901961], [0.3333333333333333, 0.5411764705882353, 0.5725490196078431], [0.3215686274509804, 0.5137254901960784, 0.5372549019607843], [0.27450980392156865, 0.42745098039215684, 0.4235294117647059], [0.11764705882352941, 0.2235294117647059, 0.18823529411764706], [0.0784313725490196, 0.1411764705882353, 0.09803921568627451], [0.07058823529411765, 0.10588235294117647, 0.07450980392156863], [0.10980392156862745, 0.1450980392156863, 0.11372549019607843], [0.12941176470588237, 0.16862745098039217, 0.13333333333333333], [0.09019607843137255, 0.13333333333333333, 0.09411764705882353], [0.0784313725490196, 0.11764705882352941, 0.06666666666666667], [0.07450980392156863, 0.08235294117647059, 0.0196078431372549], [0.08235294117647059, 0.09019607843137255, 0.01568627450980392], [0.13725490196078433, 0.1411764705882353, 0.06274509803921569], [0.23921568627450981, 0.24313725490196078, 0.1607843137254902]], [[0.9647058823529412, 0.996078431372549, 0.9921568627450981], [0.8745098039215686, 0.9490196078431372, 0.9490196078431372], [0.6, 0.7215686274509804, 0.7294117647058823], [0.4549019607843137, 0.611764705882353, 0.6235294117647059], [0.4392156862745098, 0.6274509803921569, 0.6549019607843137], [0.43137254901960786, 0.6313725490196078, 0.6627450980392157], [0.40784313725490196, 0.6235294117647059, 0.6549019607843137], [0.4, 0.6235294117647059, 0.6627450980392157], [0.38823529411764707, 0.615686274509804, 0.6588235294117647], [0.38823529411764707, 0.6078431372549019, 0.6627450980392157], [0.3843137254901961, 0.6039215686274509, 0.6588235294117647], [0.38823529411764707, 0.6039215686274509, 0.6588235294117647], [0.3843137254901961, 0.6039215686274509, 0.6588235294117647], [0.38823529411764707, 0.6, 0.6549019607843137], [0.38823529411764707, 0.596078431372549, 0.6470588235294118], [0.3803921568627451, 0.5882352941176471, 0.6313725490196078], [0.36470588235294116, 0.5725490196078431, 0.6039215686274509], [0.34509803921568627, 0.5529411764705883, 0.5803921568627451], [0.3215686274509804, 0.5254901960784314, 0.5607843137254902], [0.2823529411764706, 0.4549019607843137, 0.4823529411764706], [0.16862745098039217, 0.2980392156862745, 0.2980392156862745], [0.07058823529411765, 0.14901960784313725, 0.12156862745098039], [0.11764705882352941, 0.16470588235294117, 0.11764705882352941], [0.10588235294117647, 0.13333333333333333, 0.09803921568627451], [0.09411764705882353, 0.11764705882352941, 0.08235294117647059], [0.09411764705882353, 0.11764705882352941, 0.06666666666666667], [0.07058823529411765, 0.09411764705882353, 0.03529411764705882], [0.08627450980392157, 0.10196078431372549, 0.03529411764705882], [0.1411764705882353, 0.13333333333333333, 0.043137254901960784], [0.22745098039215686, 0.2196078431372549, 0.12549019607843137], [0.2784313725490196, 0.27450980392156865, 0.1803921568627451], [0.21568627450980393, 0.21176470588235294, 0.12549019607843137]], [[0.9019607843137255, 0.9686274509803922, 0.9607843137254902], [0.5803921568627451, 0.7137254901960784, 0.7058823529411765], [0.4196078431372549, 0.6078431372549019, 0.615686274509804], [0.396078431372549, 0.611764705882353, 0.6313725490196078], [0.39215686274509803, 0.6078431372549019, 0.6470588235294118], [0.38823529411764707, 0.6078431372549019, 0.6509803921568628], [0.3764705882352941, 0.6039215686274509, 0.6431372549019608], [0.36470588235294116, 0.592156862745098, 0.6352941176470588], [0.36470588235294116, 0.5882352941176471, 0.6352941176470588], [0.36470588235294116, 0.5843137254901961, 0.6431372549019608], [0.36470588235294116, 0.5843137254901961, 0.6470588235294118], [0.3607843137254902, 0.5803921568627451, 0.6392156862745098], [0.36470588235294116, 0.5843137254901961, 0.6470588235294118], [0.37254901960784315, 0.592156862745098, 0.6431372549019608], [0.3607843137254902, 0.5764705882352941, 0.6274509803921569], [0.34901960784313724, 0.5568627450980392, 0.6039215686274509], [0.3411764705882353, 0.5411764705882353, 0.5803921568627451], [0.3137254901960784, 0.5098039215686274, 0.5450980392156862], [0.26666666666666666, 0.44313725490196076, 0.4666666666666667], [0.17647058823529413, 0.30980392156862746, 0.32941176470588235], [0.12156862745098039, 0.20784313725490197, 0.20784313725490197], [0.14901960784313725, 0.2, 0.17254901960784313], [0.15294117647058825, 0.1843137254901961, 0.13725490196078433], [0.10196078431372549, 0.11764705882352941, 0.07450980392156863], [0.06666666666666667, 0.0784313725490196, 0.027450980392156862], [0.07058823529411765, 0.0784313725490196, 0.01568627450980392], [0.11372549019607843, 0.11764705882352941, 0.0392156862745098], [0.19215686274509805, 0.18823529411764706, 0.09411764705882353], [0.29411764705882354, 0.27450980392156865, 0.15294117647058825], [0.32941176470588235, 0.3176470588235294, 0.19607843137254902], [0.3058823529411765, 0.30196078431372547, 0.19607843137254902], [0.11372549019607843, 0.10980392156862745, 0.0392156862745098]], [[0.8117647058823529, 0.8784313725490196, 0.8666666666666667], [0.4823529411764706, 0.6196078431372549, 0.6196078431372549], [0.4, 0.6039215686274509, 0.6235294117647059], [0.3607843137254902, 0.596078431372549, 0.6313725490196078], [0.3568627450980392, 0.5843137254901961, 0.6313725490196078], [0.3568627450980392, 0.5803921568627451, 0.6313725490196078], [0.36470588235294116, 0.5882352941176471, 0.6313725490196078], [0.36470588235294116, 0.5843137254901961, 0.6274509803921569], [0.3607843137254902, 0.5764705882352941, 0.6274509803921569], [0.3568627450980392, 0.5764705882352941, 0.6274509803921569], [0.3568627450980392, 0.5764705882352941, 0.6274509803921569], [0.34901960784313724, 0.5686274509803921, 0.6235294117647059], [0.3607843137254902, 0.5803921568627451, 0.6313725490196078], [0.35294117647058826, 0.5686274509803921, 0.615686274509804], [0.34509803921568627, 0.5529411764705883, 0.6039215686274509], [0.33725490196078434, 0.5372549019607843, 0.5803921568627451], [0.3176470588235294, 0.5058823529411764, 0.5450980392156862], [0.27058823529411763, 0.45098039215686275, 0.4823529411764706], [0.2, 0.34509803921568627, 0.34901960784313724], [0.1450980392156863, 0.23921568627450981, 0.23921568627450981], [0.1568627450980392, 0.2, 0.19215686274509805], [0.10588235294117647, 0.12941176470588237, 0.10588235294117647], [0.07450980392156863, 0.10196078431372549, 0.058823529411764705], [0.06666666666666667, 0.08235294117647059, 0.023529411764705882], [0.09411764705882353, 0.09803921568627451, 0.03137254901960784], [0.16862745098039217, 0.16862745098039217, 0.08235294117647059], [0.25882352941176473, 0.24705882352941178, 0.1411764705882353], [0.30980392156862746, 0.29411764705882354, 0.16862745098039217], [0.35294117647058826, 0.3411764705882353, 0.19215686274509805], [0.3764705882352941, 0.3686274509803922, 0.22745098039215686], [0.2784313725490196, 0.2823529411764706, 0.16470588235294117], [0.10980392156862745, 0.11764705882352941, 0.0392156862745098]], [[0.7568627450980392, 0.796078431372549, 0.788235294117647], [0.49411764705882355, 0.6078431372549019, 0.615686274509804], [0.3176470588235294, 0.5019607843137255, 0.5294117647058824], [0.3607843137254902, 0.5764705882352941, 0.6196078431372549], [0.39215686274509803, 0.615686274509804, 0.6588235294117647], [0.39215686274509803, 0.611764705882353, 0.6588235294117647], [0.3803921568627451, 0.596078431372549, 0.6392156862745098], [0.37254901960784315, 0.5803921568627451, 0.6235294117647059], [0.3686274509803922, 0.5725490196078431, 0.6196078431372549], [0.3607843137254902, 0.5764705882352941, 0.6235294117647059], [0.3607843137254902, 0.5725490196078431, 0.6196078431372549], [0.3843137254901961, 0.6039215686274509, 0.6470588235294118], [0.3764705882352941, 0.596078431372549, 0.6392156862745098], [0.34901960784313724, 0.5647058823529412, 0.611764705882353], [0.35294117647058826, 0.5568627450980392, 0.6039215686274509], [0.32941176470588235, 0.5215686274509804, 0.5607843137254902], [0.2901960784313726, 0.47058823529411764, 0.5058823529411764], [0.2235294117647059, 0.3843137254901961, 0.41568627450980394], [0.15294117647058825, 0.26666666666666666, 0.25882352941176473], [0.11372549019607843, 0.17647058823529413, 0.1568627450980392], [0.09803921568627451, 0.10980392156862745, 0.09803921568627451], [0.10196078431372549, 0.10588235294117647, 0.08235294117647059], [0.06666666666666667, 0.08627450980392157, 0.043137254901960784], [0.12941176470588237, 0.1450980392156863, 0.07450980392156863], [0.21176470588235294, 0.21568627450980393, 0.12941176470588237], [0.28627450980392155, 0.2784313725490196, 0.17254901960784313], [0.3176470588235294, 0.2980392156862745, 0.17254901960784313], [0.34509803921568627, 0.3254901960784314, 0.1803921568627451], [0.3411764705882353, 0.3333333333333333, 0.16470588235294117], [0.2980392156862745, 0.2980392156862745, 0.1411764705882353], [0.23529411764705882, 0.24313725490196078, 0.11372549019607843], [0.2196078431372549, 0.23529411764705882, 0.13333333333333333]], [[0.7607843137254902, 0.8117647058823529, 0.7764705882352941], [0.6196078431372549, 0.7176470588235294, 0.6745098039215687], [0.3215686274509804, 0.4235294117647059, 0.37254901960784315], [0.18823529411764706, 0.2823529411764706, 0.24313725490196078], [0.27450980392156865, 0.40784313725490196, 0.4], [0.41568627450980394, 0.5686274509803921, 0.5686274509803921], [0.4823529411764706, 0.6705882352941176, 0.6784313725490196], [0.5019607843137255, 0.7137254901960784, 0.7294117647058823], [0.45098039215686275, 0.6745098039215687, 0.6941176470588235], [0.4235294117647059, 0.6431372549019608, 0.6745098039215687], [0.4666666666666667, 0.6941176470588235, 0.7215686274509804], [0.4392156862745098, 0.6705882352941176, 0.6980392156862745], [0.3843137254901961, 0.611764705882353, 0.6431372549019608], [0.3607843137254902, 0.5843137254901961, 0.6352941176470588], [0.3568627450980392, 0.5607843137254902, 0.6], [0.3333333333333333, 0.5254901960784314, 0.5607843137254902], [0.2784313725490196, 0.4470588235294118, 0.49411764705882355], [0.18823529411764706, 0.26666666666666666, 0.29411764705882354], [0.10980392156862745, 0.1607843137254902, 0.13333333333333333], [0.0784313725490196, 0.11372549019607843, 0.07450980392156863], [0.10196078431372549, 0.10588235294117647, 0.06666666666666667], [0.2196078431372549, 0.20392156862745098, 0.13725490196078433], [0.2, 0.1803921568627451, 0.0784313725490196], [0.25098039215686274, 0.24705882352941178, 0.1450980392156863], [0.28627450980392155, 0.2784313725490196, 0.17254901960784313], [0.3137254901960784, 0.29411764705882354, 0.16862745098039217], [0.3568627450980392, 0.3215686274509804, 0.1803921568627451], [0.3176470588235294, 0.2823529411764706, 0.12156862745098039], [0.2784313725490196, 0.25098039215686274, 0.07450980392156863], [0.35294117647058826, 0.3333333333333333, 0.17647058823529413], [0.29411764705882354, 0.2823529411764706, 0.15294117647058825], [0.36470588235294116, 0.35294117647058826, 0.25882352941176473]], [[0.4235294117647059, 0.5176470588235295, 0.48627450980392156], [0.5215686274509804, 0.6470588235294118, 0.6078431372549019], [0.403921568627451, 0.5058823529411764, 0.45098039215686275], [0.15294117647058825, 0.21176470588235294, 0.1607843137254902], [0.2549019607843137, 0.3137254901960784, 0.2823529411764706], [0.2549019607843137, 0.34509803921568627, 0.3215686274509804], [0.19215686274509805, 0.3176470588235294, 0.30196078431372547], [0.3215686274509804, 0.4823529411764706, 0.47058823529411764], [0.5254901960784314, 0.7058823529411765, 0.7137254901960784], [0.6980392156862745, 0.8823529411764706, 0.9137254901960784], [0.6823529411764706, 0.8627450980392157, 0.8823529411764706], [0.4980392156862745, 0.6784313725490196, 0.6941176470588235], [0.47843137254901963, 0.6549019607843137, 0.6666666666666666], [0.4588235294117647, 0.6352941176470588, 0.6549019607843137], [0.43137254901960786, 0.5803921568627451, 0.5686274509803921], [0.3843137254901961, 0.5098039215686274, 0.48627450980392156], [0.20784313725490197, 0.30980392156862746, 0.3215686274509804], [0.11764705882352941, 0.13725490196078433, 0.1411764705882353], [0.0784313725490196, 0.09411764705882353, 0.06274509803921569], [0.08627450980392157, 0.10980392156862745, 0.07058823529411765], [0.10980392156862745, 0.10980392156862745, 0.058823529411764705], [0.1803921568627451, 0.15294117647058825, 0.06274509803921569], [0.3058823529411765, 0.2627450980392157, 0.12941176470588237], [0.28627450980392155, 0.26666666666666666, 0.1450980392156863], [0.29411764705882354, 0.27450980392156865, 0.15294117647058825], [0.3137254901960784, 0.28627450980392155, 0.1450980392156863], [0.2823529411764706, 0.24313725490196078, 0.09411764705882353], [0.30196078431372547, 0.2549019607843137, 0.09411764705882353], [0.37254901960784315, 0.3411764705882353, 0.17254901960784313], [0.41568627450980394, 0.38823529411764707, 0.23529411764705882], [0.25882352941176473, 0.23529411764705882, 0.11372549019607843], [0.4549019607843137, 0.43137254901960786, 0.3411764705882353]], [[0.34901960784313724, 0.4745098039215686, 0.4745098039215686], [0.30196078431372547, 0.47058823529411764, 0.4745098039215686], [0.27058823529411763, 0.43137254901960786, 0.4392156862745098], [0.25098039215686274, 0.3686274509803922, 0.36470588235294116], [0.3215686274509804, 0.37254901960784315, 0.3568627450980392], [0.20392156862745098, 0.25882352941176473, 0.24313725490196078], [0.13725490196078433, 0.20392156862745098, 0.18823529411764706], [0.13333333333333333, 0.21176470588235294, 0.19607843137254902], [0.28627450980392155, 0.38823529411764707, 0.396078431372549], [0.6862745098039216, 0.8117647058823529, 0.8470588235294118], [0.6901960784313725, 0.8, 0.8196078431372549], [0.6941176470588235, 0.792156862745098, 0.8], [0.8196078431372549, 0.8941176470588236, 0.8941176470588236], [0.8431372549019608, 0.9215686274509803, 0.9019607843137255], [0.788235294117647, 0.8313725490196079, 0.7411764705882353], [0.592156862745098, 0.5882352941176471, 0.47058823529411764], [0.1843137254901961, 0.19215686274509805, 0.12941176470588237], [0.09411764705882353, 0.09019607843137255, 0.06274509803921569], [0.09019607843137255, 0.10196078431372549, 0.07450980392156863], [0.10196078431372549, 0.12156862745098039, 0.09019607843137255], [0.1411764705882353, 0.13333333333333333, 0.09411764705882353], [0.24313725490196078, 0.21568627450980393, 0.13725490196078433], [0.3058823529411765, 0.26666666666666666, 0.1450980392156863], [0.30196078431372547, 0.27450980392156865, 0.13725490196078433], [0.29411764705882354, 0.26666666666666666, 0.12549019607843137], [0.24313725490196078, 0.20784313725490197, 0.054901960784313725], [0.30980392156862746, 0.2627450980392157, 0.10588235294117647], [0.3764705882352941, 0.32941176470588235, 0.16862745098039217], [0.40784313725490196, 0.3764705882352941, 0.23137254901960785], [0.3333333333333333, 0.30980392156862746, 0.1803921568627451], [0.2, 0.1803921568627451, 0.09803921568627451], [0.4666666666666667, 0.45098039215686275, 0.37254901960784315]], [[0.30196078431372547, 0.42745098039215684, 0.42745098039215684], [0.3215686274509804, 0.49019607843137253, 0.5098039215686274], [0.20784313725490197, 0.38823529411764707, 0.4196078431372549], [0.1843137254901961, 0.33725490196078434, 0.3607843137254902], [0.30196078431372547, 0.4, 0.396078431372549], [0.3215686274509804, 0.4117647058823529, 0.403921568627451], [0.2901960784313726, 0.3686274509803922, 0.3607843137254902], [0.2549019607843137, 0.32941176470588235, 0.3137254901960784], [0.39215686274509803, 0.4823529411764706, 0.49019607843137253], [0.5450980392156862, 0.6627450980392157, 0.6901960784313725], [0.7176470588235294, 0.807843137254902, 0.8196078431372549], [0.8431372549019608, 0.8980392156862745, 0.8901960784313725], [0.9098039215686274, 0.9333333333333333, 0.9098039215686274], [0.8784313725490196, 0.9137254901960784, 0.8588235294117647], [0.7019607843137254, 0.6784313725490196, 0.5411764705882353], [0.7372549019607844, 0.6431372549019608, 0.4666666666666667], [0.30196078431372547, 0.2549019607843137, 0.1450980392156863], [0.10588235294117647, 0.10196078431372549, 0.06274509803921569], [0.10588235294117647, 0.11764705882352941, 0.09019607843137255], [0.09019607843137255, 0.09411764705882353, 0.07058823529411765], [0.06274509803921569, 0.047058823529411764, 0.0196078431372549], [0.19607843137254902, 0.1607843137254902, 0.09803921568627451], [0.30980392156862746, 0.26666666666666666, 0.1607843137254902], [0.2627450980392157, 0.22745098039215686, 0.07058823529411765], [0.2549019607843137, 0.21568627450980393, 0.058823529411764705], [0.29411764705882354, 0.25098039215686274, 0.09411764705882353], [0.37254901960784315, 0.3215686274509804, 0.16862745098039217], [0.40784313725490196, 0.3568627450980392, 0.21176470588235294], [0.2901960784313726, 0.26666666666666666, 0.14901960784313725], [0.17254901960784313, 0.15294117647058825, 0.047058823529411764], [0.19607843137254902, 0.1803921568627451, 0.10588235294117647], [0.44313725490196076, 0.43529411764705883, 0.37254901960784315]], [[0.22745098039215686, 0.30980392156862746, 0.28627450980392155], [0.2627450980392157, 0.38823529411764707, 0.39215686274509803], [0.3058823529411765, 0.4470588235294118, 0.4666666666666667], [0.30980392156862746, 0.4627450980392157, 0.47843137254901963], [0.24705882352941178, 0.4196078431372549, 0.42745098039215684], [0.20784313725490197, 0.3686274509803922, 0.37254901960784315], [0.25098039215686274, 0.396078431372549, 0.4], [0.2980392156862745, 0.42745098039215684, 0.43137254901960786], [0.3411764705882353, 0.47843137254901963, 0.48627450980392156], [0.4196078431372549, 0.5686274509803921, 0.5764705882352941], [0.6431372549019608, 0.7568627450980392, 0.7529411764705882], [0.7607843137254902, 0.8352941176470589, 0.803921568627451], [0.7647058823529411, 0.807843137254902, 0.7607843137254902], [0.803921568627451, 0.8549019607843137, 0.8], [0.7450980392156863, 0.7294117647058823, 0.6039215686274509], [0.7725490196078432, 0.6666666666666666, 0.49411764705882355], [0.2784313725490196, 0.22745098039215686, 0.12549019607843137], [0.09803921568627451, 0.12156862745098039, 0.08627450980392157], [0.10980392156862745, 0.12156862745098039, 0.09411764705882353], [0.058823529411764705, 0.050980392156862744, 0.023529411764705882], [0.06666666666666667, 0.047058823529411764, 0.0196078431372549], [0.12941176470588237, 0.09803921568627451, 0.043137254901960784], [0.2901960784313726, 0.25098039215686274, 0.1450980392156863], [0.27058823529411763, 0.22745098039215686, 0.07450980392156863], [0.32941176470588235, 0.28627450980392155, 0.13333333333333333], [0.3411764705882353, 0.2980392156862745, 0.1568627450980392], [0.3803921568627451, 0.33725490196078434, 0.20392156862745098], [0.25882352941176473, 0.2196078431372549, 0.10588235294117647], [0.13725490196078433, 0.11764705882352941, 0.03529411764705882], [0.12156862745098039, 0.10980392156862745, 0.047058823529411764], [0.1411764705882353, 0.13725490196078433, 0.09019607843137255], [0.3764705882352941, 0.3764705882352941, 0.3333333333333333]], [[0.25098039215686274, 0.2901960784313726, 0.23529411764705882], [0.4823529411764706, 0.5450980392156862, 0.5254901960784314], [0.4588235294117647, 0.5450980392156862, 0.5372549019607843], [0.3803921568627451, 0.4980392156862745, 0.49411764705882355], [0.36470588235294116, 0.5529411764705883, 0.5607843137254902], [0.4, 0.596078431372549, 0.6], [0.38823529411764707, 0.5764705882352941, 0.5843137254901961], [0.3176470588235294, 0.5058823529411764, 0.5137254901960784], [0.28627450980392155, 0.47843137254901963, 0.4823529411764706], [0.4666666666666667, 0.6588235294117647, 0.6549019607843137], [0.5019607843137255, 0.6588235294117647, 0.6431372549019608], [0.5294117647058824, 0.6470588235294118, 0.611764705882353], [0.5725490196078431, 0.6509803921568628, 0.6078431372549019], [0.5450980392156862, 0.6352941176470588, 0.6039215686274509], [0.43529411764705883, 0.4666666666666667, 0.38823529411764707], [0.3137254901960784, 0.2549019607843137, 0.1411764705882353], [0.2, 0.18823529411764706, 0.11764705882352941], [0.13725490196078433, 0.17647058823529413, 0.13725490196078433], [0.08235294117647059, 0.09019607843137255, 0.050980392156862744], [0.06274509803921569, 0.043137254901960784, 0.00784313725490196], [0.08627450980392157, 0.058823529411764705, 0.0196078431372549], [0.11372549019607843, 0.0784313725490196, 0.023529411764705882], [0.3058823529411765, 0.26666666666666666, 0.16470588235294117], [0.32941176470588235, 0.2901960784313726, 0.1450980392156863], [0.34901960784313724, 0.30980392156862746, 0.17254901960784313], [0.32941176470588235, 0.2980392156862745, 0.1803921568627451], [0.19215686274509805, 0.1607843137254902, 0.0784313725490196], [0.16470588235294117, 0.1411764705882353, 0.07058823529411765], [0.5294117647058824, 0.5176470588235295, 0.47058823529411764], [0.1450980392156863, 0.1411764705882353, 0.11372549019607843], [0.023529411764705882, 0.027450980392156862, 0.0], [0.4627450980392157, 0.4666666666666667, 0.44313725490196076]], [[0.27058823529411763, 0.2980392156862745, 0.23529411764705882], [0.5803921568627451, 0.6196078431372549, 0.592156862745098], [0.6862745098039216, 0.7372549019607844, 0.7176470588235294], [0.615686274509804, 0.6941176470588235, 0.6705882352941176], [0.5137254901960784, 0.6313725490196078, 0.615686274509804], [0.42745098039215684, 0.5647058823529412, 0.5529411764705883], [0.42745098039215684, 0.5882352941176471, 0.5803921568627451], [0.5372549019607843, 0.7176470588235294, 0.7176470588235294], [0.6196078431372549, 0.8156862745098039, 0.8156862745098039], [0.7294117647058823, 0.9333333333333333, 0.9294117647058824], [0.7843137254901961, 0.9568627450980393, 0.9490196078431372], [0.796078431372549, 0.9294117647058824, 0.9176470588235294], [0.7843137254901961, 0.8901960784313725, 0.8745098039215686], [0.592156862745098, 0.7176470588235294, 0.7137254901960784], [0.2196078431372549, 0.2980392156862745, 0.2627450980392157], [0.1411764705882353, 0.13725490196078433, 0.07450980392156863], [0.16470588235294117, 0.1803921568627451, 0.12941176470588237], [0.1450980392156863, 0.16470588235294117, 0.10196078431372549], [0.08235294117647059, 0.07450980392156863, 0.01568627450980392], [0.21568627450980393, 0.19215686274509805, 0.13725490196078433], [0.1803921568627451, 0.14901960784313725, 0.08627450980392157], [0.10980392156862745, 0.0784313725490196, 0.01568627450980392], [0.28627450980392155, 0.2549019607843137, 0.13725490196078433], [0.34509803921568627, 0.3176470588235294, 0.1843137254901961], [0.2823529411764706, 0.25882352941176473, 0.14901960784313725], [0.1450980392156863, 0.12549019607843137, 0.047058823529411764], [0.1843137254901961, 0.16862745098039217, 0.12549019607843137], [0.6745098039215687, 0.6627450980392157, 0.6352941176470588], [0.9803921568627451, 0.9764705882352941, 0.9568627450980393], [0.6784313725490196, 0.6784313725490196, 0.6627450980392157], [0.4980392156862745, 0.5019607843137255, 0.49019607843137253], [0.8352941176470589, 0.8470588235294118, 0.8392156862745098]], [[0.25098039215686274, 0.2901960784313726, 0.24313725490196078], [0.4627450980392157, 0.4980392156862745, 0.47843137254901963], [0.6745098039215687, 0.7215686274509804, 0.7019607843137254], [0.6549019607843137, 0.6980392156862745, 0.6666666666666666], [0.6470588235294118, 0.6549019607843137, 0.6196078431372549], [0.6, 0.6392156862745098, 0.6039215686274509], [0.38823529411764707, 0.4745098039215686, 0.4470588235294118], [0.27450980392156865, 0.4, 0.3803921568627451], [0.3568627450980392, 0.5215686274509804, 0.5137254901960784], [0.48627450980392156, 0.6705882352941176, 0.6745098039215687], [0.6627450980392157, 0.8196078431372549, 0.8313725490196079], [0.803921568627451, 0.9333333333333333, 0.9411764705882353], [0.8627450980392157, 0.9607843137254902, 0.9686274509803922], [0.611764705882353, 0.7450980392156863, 0.7607843137254902], [0.19215686274509805, 0.2901960784313726, 0.2784313725490196], [0.11764705882352941, 0.15294117647058825, 0.12156862745098039], [0.17647058823529413, 0.2, 0.1568627450980392], [0.1568627450980392, 0.1450980392156863, 0.054901960784313725], [0.1450980392156863, 0.11764705882352941, 0.047058823529411764], [0.30980392156862746, 0.28627450980392155, 0.20392156862745098], [0.30196078431372547, 0.27058823529411763, 0.2], [0.12156862745098039, 0.09019607843137255, 0.0196078431372549], [0.25882352941176473, 0.23137254901960785, 0.10980392156862745], [0.20784313725490197, 0.1843137254901961, 0.0784313725490196], [0.12549019607843137, 0.10588235294117647, 0.023529411764705882], [0.22745098039215686, 0.2196078431372549, 0.16862745098039217], [0.7411764705882353, 0.7411764705882353, 0.7215686274509804], [0.996078431372549, 1.0, 0.996078431372549], [0.9803921568627451, 0.9803921568627451, 0.9764705882352941], [1.0, 1.0, 1.0], [0.9882352941176471, 0.996078431372549, 0.996078431372549], [0.9686274509803922, 0.984313725490196, 0.9882352941176471]], [[0.23137254901960785, 0.26666666666666666, 0.23137254901960785], [0.14901960784313725, 0.1803921568627451, 0.1568627450980392], [0.28627450980392155, 0.3215686274509804, 0.2980392156862745], [0.4745098039215686, 0.5019607843137255, 0.47058823529411764], [0.5764705882352941, 0.5725490196078431, 0.5294117647058824], [0.5333333333333333, 0.5568627450980392, 0.5137254901960784], [0.3843137254901961, 0.44313725490196076, 0.4], [0.2823529411764706, 0.37254901960784315, 0.3254901960784314], [0.25098039215686274, 0.3764705882352941, 0.3411764705882353], [0.21568627450980393, 0.3686274509803922, 0.34901960784313724], [0.24705882352941178, 0.39215686274509803, 0.37254901960784315], [0.3254901960784314, 0.4588235294117647, 0.43529411764705883], [0.3568627450980392, 0.4823529411764706, 0.4549019607843137], [0.22745098039215686, 0.32941176470588235, 0.3137254901960784], [0.1568627450980392, 0.20784313725490197, 0.1843137254901961], [0.17647058823529413, 0.20392156862745098, 0.1568627450980392], [0.17254901960784313, 0.18823529411764706, 0.12941176470588237], [0.11764705882352941, 0.11372549019607843, 0.03529411764705882], [0.17647058823529413, 0.15294117647058825, 0.0784313725490196], [0.34509803921568627, 0.3137254901960784, 0.19607843137254902], [0.34901960784313724, 0.2980392156862745, 0.19607843137254902], [0.15294117647058825, 0.10588235294117647, 0.054901960784313725], [0.17254901960784313, 0.14901960784313725, 0.07058823529411765], [0.09411764705882353, 0.08235294117647059, 0.043137254901960784], [0.26666666666666666, 0.25882352941176473, 0.23137254901960785], [0.803921568627451, 0.803921568627451, 0.7843137254901961], [1.0, 1.0, 1.0], [0.9882352941176471, 0.9921568627450981, 0.9921568627450981], [0.9921568627450981, 0.9921568627450981, 0.9921568627450981], [0.9921568627450981, 0.9921568627450981, 0.9921568627450981], [0.9882352941176471, 0.9921568627450981, 0.9921568627450981], [0.9803921568627451, 0.9882352941176471, 0.9882352941176471]], [[0.4745098039215686, 0.5019607843137255, 0.47058823529411764], [0.12941176470588237, 0.1568627450980392, 0.12549019607843137], [0.10588235294117647, 0.13333333333333333, 0.10196078431372549], [0.1450980392156863, 0.16470588235294117, 0.13725490196078433], [0.25882352941176473, 0.2784313725490196, 0.24313725490196078], [0.4117647058823529, 0.45098039215686275, 0.40784313725490196], [0.37254901960784315, 0.43137254901960786, 0.3803921568627451], [0.2627450980392157, 0.34509803921568627, 0.28627450980392155], [0.30196078431372547, 0.4, 0.34901960784313724], [0.3411764705882353, 0.4470588235294118, 0.4117647058823529], [0.35294117647058826, 0.4588235294117647, 0.4196078431372549], [0.3411764705882353, 0.45098039215686275, 0.4], [0.30196078431372547, 0.40784313725490196, 0.35294117647058826], [0.24313725490196078, 0.30196078431372547, 0.25882352941176473], [0.21176470588235294, 0.23137254901960785, 0.1803921568627451], [0.1843137254901961, 0.2, 0.12549019607843137], [0.1843137254901961, 0.19215686274509805, 0.11372549019607843], [0.10196078431372549, 0.10588235294117647, 0.047058823529411764], [0.26666666666666666, 0.24705882352941178, 0.1607843137254902], [0.4196078431372549, 0.3843137254901961, 0.23529411764705882], [0.41568627450980394, 0.3568627450980392, 0.23529411764705882], [0.16470588235294117, 0.11764705882352941, 0.07450980392156863], [0.10588235294117647, 0.09019607843137255, 0.050980392156862744], [0.3333333333333333, 0.3333333333333333, 0.3254901960784314], [0.8509803921568627, 0.8509803921568627, 0.8549019607843137], [1.0, 1.0, 1.0], [0.996078431372549, 0.996078431372549, 0.996078431372549], [0.996078431372549, 0.996078431372549, 0.996078431372549], [0.996078431372549, 0.996078431372549, 0.996078431372549], [0.996078431372549, 0.996078431372549, 0.996078431372549], [0.996078431372549, 0.996078431372549, 0.996078431372549], [0.996078431372549, 0.996078431372549, 0.996078431372549]], [[0.8823529411764706, 0.9019607843137255, 0.8784313725490196], [0.4549019607843137, 0.47843137254901963, 0.4549019607843137], [0.15294117647058825, 0.17647058823529413, 0.14901960784313725], [0.12549019607843137, 0.1450980392156863, 0.11764705882352941], [0.12549019607843137, 0.1450980392156863, 0.10980392156862745], [0.12941176470588237, 0.1607843137254902, 0.11764705882352941], [0.13333333333333333, 0.1843137254901961, 0.13725490196078433], [0.09411764705882353, 0.16862745098039217, 0.11372549019607843], [0.1568627450980392, 0.21568627450980393, 0.17647058823529413], [0.21176470588235294, 0.25882352941176473, 0.23137254901960785], [0.26666666666666666, 0.3137254901960784, 0.2823529411764706], [0.3176470588235294, 0.3686274509803922, 0.3254901960784314], [0.3137254901960784, 0.3607843137254902, 0.3137254901960784], [0.25882352941176473, 0.2980392156862745, 0.23921568627450981], [0.21176470588235294, 0.23529411764705882, 0.1607843137254902], [0.20392156862745098, 0.2196078431372549, 0.12941176470588237], [0.2, 0.20784313725490197, 0.12549019607843137], [0.10588235294117647, 0.10196078431372549, 0.047058823529411764], [0.3137254901960784, 0.2784313725490196, 0.17647058823529413], [0.4745098039215686, 0.42745098039215684, 0.2627450980392157], [0.4196078431372549, 0.3686274509803922, 0.24313725490196078], [0.16470588235294117, 0.12941176470588237, 0.09019607843137255], [0.40784313725490196, 0.403921568627451, 0.3764705882352941], [0.8941176470588236, 0.8941176470588236, 0.8862745098039215], [0.996078431372549, 0.996078431372549, 0.996078431372549], [0.9882352941176471, 0.9882352941176471, 0.9882352941176471], [0.996078431372549, 0.996078431372549, 0.996078431372549], [0.996078431372549, 0.996078431372549, 0.996078431372549], [0.996078431372549, 0.996078431372549, 0.996078431372549], [0.996078431372549, 0.996078431372549, 0.996078431372549], [0.996078431372549, 0.996078431372549, 0.996078431372549], [0.996078431372549, 0.996078431372549, 0.996078431372549]], [[0.9764705882352941, 0.9921568627450981, 0.9725490196078431], [0.9058823529411765, 0.9215686274509803, 0.9019607843137255], [0.5529411764705883, 0.5725490196078431, 0.5490196078431373], [0.25098039215686274, 0.26666666666666666, 0.24313725490196078], [0.1450980392156863, 0.1607843137254902, 0.12941176470588237], [0.10980392156862745, 0.13333333333333333, 0.10196078431372549], [0.09019607843137255, 0.13333333333333333, 0.09411764705882353], [0.10980392156862745, 0.1607843137254902, 0.11764705882352941], [0.0784313725490196, 0.11372549019607843, 0.0784313725490196], [0.08627450980392157, 0.10196078431372549, 0.0784313725490196], [0.10196078431372549, 0.11764705882352941, 0.08235294117647059], [0.12941176470588237, 0.14901960784313725, 0.10588235294117647], [0.1843137254901961, 0.2, 0.14901960784313725], [0.2, 0.2235294117647059, 0.1450980392156863], [0.20392156862745098, 0.2235294117647059, 0.12156862745098039], [0.20392156862745098, 0.2196078431372549, 0.11764705882352941], [0.19607843137254902, 0.2, 0.11372549019607843], [0.11764705882352941, 0.10588235294117647, 0.050980392156862744], [0.4117647058823529, 0.36470588235294116, 0.23921568627450981], [0.45098039215686275, 0.4, 0.21568627450980393], [0.3607843137254902, 0.3215686274509804, 0.2], [0.47843137254901963, 0.4627450980392157, 0.43529411764705883], [0.9372549019607843, 0.9450980392156862, 0.9254901960784314], [0.9921568627450981, 0.9921568627450981, 0.9882352941176471], [0.9921568627450981, 0.9921568627450981, 0.9921568627450981], [0.9921568627450981, 0.9921568627450981, 0.9921568627450981], [0.996078431372549, 0.996078431372549, 0.996078431372549], [0.996078431372549, 0.996078431372549, 0.996078431372549], [0.996078431372549, 0.996078431372549, 0.996078431372549], [0.996078431372549, 0.996078431372549, 0.996078431372549], [0.996078431372549, 0.996078431372549, 0.996078431372549], [0.996078431372549, 0.996078431372549, 0.996078431372549]], [[0.984313725490196, 0.996078431372549, 0.9803921568627451], [0.9921568627450981, 1.0, 0.9882352941176471], [0.9725490196078431, 0.984313725490196, 0.9686274509803922], [0.792156862745098, 0.8, 0.7843137254901961], [0.5176470588235295, 0.5254901960784314, 0.5058823529411764], [0.27058823529411763, 0.28627450980392155, 0.2627450980392157], [0.14901960784313725, 0.17647058823529413, 0.14901960784313725], [0.11372549019607843, 0.14901960784313725, 0.11764705882352941], [0.09803921568627451, 0.13333333333333333, 0.10196078431372549], [0.054901960784313725, 0.08235294117647059, 0.047058823529411764], [0.01568627450980392, 0.047058823529411764, 0.00392156862745098], [0.027450980392156862, 0.054901960784313725, 0.011764705882352941], [0.12941176470588237, 0.1568627450980392, 0.09803921568627451], [0.18823529411764706, 0.21568627450980393, 0.12941176470588237], [0.20392156862745098, 0.2235294117647059, 0.11372549019607843], [0.20392156862745098, 0.2196078431372549, 0.10588235294117647], [0.18823529411764706, 0.18823529411764706, 0.10196078431372549], [0.11764705882352941, 0.10196078431372549, 0.050980392156862744], [0.43529411764705883, 0.3803921568627451, 0.24705882352941178], [0.49411764705882355, 0.4470588235294118, 0.2549019607843137], [0.3215686274509804, 0.2980392156862745, 0.1843137254901961], [0.7098039215686275, 0.7058823529411765, 0.6862745098039216], [0.9921568627450981, 1.0, 0.9921568627450981], [0.9882352941176471, 0.9921568627450981, 0.9882352941176471], [0.996078431372549, 0.996078431372549, 0.996078431372549], [0.996078431372549, 0.996078431372549, 0.996078431372549], [0.996078431372549, 0.996078431372549, 0.996078431372549], [0.996078431372549, 0.996078431372549, 0.996078431372549], [0.996078431372549, 0.996078431372549, 0.996078431372549], [0.996078431372549, 0.996078431372549, 0.996078431372549], [0.996078431372549, 0.996078431372549, 0.996078431372549], [0.9921568627450981, 0.9921568627450981, 0.9921568627450981]], [[0.996078431372549, 0.996078431372549, 0.9921568627450981], [0.9921568627450981, 0.9921568627450981, 0.9882352941176471], [0.9921568627450981, 0.996078431372549, 0.9921568627450981], [1.0, 1.0, 1.0], [0.9647058823529412, 0.9647058823529412, 0.9529411764705882], [0.803921568627451, 0.807843137254902, 0.796078431372549], [0.5843137254901961, 0.592156862745098, 0.5764705882352941], [0.396078431372549, 0.40784313725490196, 0.39215686274509803], [0.24705882352941178, 0.27450980392156865, 0.25098039215686274], [0.17254901960784313, 0.2196078431372549, 0.1843137254901961], [0.13333333333333333, 0.1803921568627451, 0.13725490196078433], [0.12941176470588237, 0.17647058823529413, 0.12156862745098039], [0.1843137254901961, 0.23137254901960785, 0.17254901960784313], [0.16470588235294117, 0.19607843137254902, 0.11764705882352941], [0.17254901960784313, 0.1803921568627451, 0.09019607843137255], [0.19607843137254902, 0.2, 0.10196078431372549], [0.18823529411764706, 0.1803921568627451, 0.09803921568627451], [0.13333333333333333, 0.10980392156862745, 0.06274509803921569], [0.4549019607843137, 0.403921568627451, 0.27058823529411763], [0.5215686274509804, 0.48627450980392156, 0.30980392156862746], [0.30196078431372547, 0.2901960784313726, 0.2], [0.8313725490196079, 0.8274509803921568, 0.8313725490196079], [0.9921568627450981, 0.9921568627450981, 0.9921568627450981], [0.996078431372549, 0.996078431372549, 0.996078431372549], [0.996078431372549, 0.996078431372549, 0.996078431372549], [0.996078431372549, 0.996078431372549, 0.996078431372549], [0.996078431372549, 0.996078431372549, 0.996078431372549], [0.996078431372549, 0.996078431372549, 0.996078431372549], [0.996078431372549, 0.996078431372549, 0.996078431372549], [0.996078431372549, 0.996078431372549, 0.996078431372549], [0.9921568627450981, 0.9921568627450981, 0.9921568627450981], [0.9921568627450981, 0.9921568627450981, 0.9921568627450981]], [[0.996078431372549, 0.996078431372549, 0.996078431372549], [0.9921568627450981, 0.9921568627450981, 0.9921568627450981], [0.9921568627450981, 0.9921568627450981, 0.9921568627450981], [0.9882352941176471, 0.9882352941176471, 0.9882352941176471], [0.9921568627450981, 0.9921568627450981, 0.984313725490196], [1.0, 1.0, 0.9921568627450981], [0.9882352941176471, 0.9882352941176471, 0.9803921568627451], [0.9372549019607843, 0.9372549019607843, 0.9294117647058824], [0.7843137254901961, 0.796078431372549, 0.7843137254901961], [0.592156862745098, 0.6235294117647059, 0.6039215686274509], [0.4627450980392157, 0.4980392156862745, 0.4745098039215686], [0.38823529411764707, 0.4235294117647059, 0.38823529411764707], [0.2901960784313726, 0.3254901960784314, 0.2823529411764706], [0.23529411764705882, 0.2549019607843137, 0.20784313725490197], [0.36470588235294116, 0.36470588235294116, 0.30196078431372547], [0.2823529411764706, 0.2784313725490196, 0.2], [0.13725490196078433, 0.12549019607843137, 0.050980392156862744], [0.12156862745098039, 0.09803921568627451, 0.054901960784313725], [0.39215686274509803, 0.34901960784313724, 0.23137254901960785], [0.41568627450980394, 0.39215686274509803, 0.24313725490196078], [0.30980392156862746, 0.30980392156862746, 0.24313725490196078], [0.9333333333333333, 0.9254901960784314, 0.9411764705882353], [0.9921568627450981, 0.984313725490196, 0.9921568627450981], [0.996078431372549, 0.9921568627450981, 0.9921568627450981], [0.996078431372549, 0.996078431372549, 0.996078431372549], [0.996078431372549, 0.996078431372549, 0.996078431372549], [0.996078431372549, 0.996078431372549, 0.996078431372549], [0.996078431372549, 0.996078431372549, 0.996078431372549], [0.996078431372549, 0.996078431372549, 0.996078431372549], [0.996078431372549, 0.996078431372549, 0.996078431372549], [0.9921568627450981, 0.9921568627450981, 0.9921568627450981], [0.9921568627450981, 0.9921568627450981, 0.9921568627450981]], [[1.0, 0.9921568627450981, 1.0], [0.996078431372549, 0.9921568627450981, 0.996078431372549], [0.996078431372549, 0.9882352941176471, 0.996078431372549], [0.9921568627450981, 0.9882352941176471, 0.9921568627450981], [0.9882352941176471, 0.9882352941176471, 0.9803921568627451], [0.9882352941176471, 0.9882352941176471, 0.9803921568627451], [0.9921568627450981, 0.9882352941176471, 0.9803921568627451], [1.0, 0.996078431372549, 0.9921568627450981], [1.0, 1.0, 1.0], [1.0, 0.996078431372549, 1.0], [0.9647058823529412, 0.9607843137254902, 0.9607843137254902], [0.9098039215686274, 0.9098039215686274, 0.8980392156862745], [0.8392156862745098, 0.8392156862745098, 0.8196078431372549], [0.8352941176470589, 0.8313725490196079, 0.8117647058823529], [0.9215686274509803, 0.9176470588235294, 0.8823529411764706], [0.5725490196078431, 0.5647058823529412, 0.5098039215686274], [0.12549019607843137, 0.10196078431372549, 0.0392156862745098], [0.13725490196078433, 0.10588235294117647, 0.050980392156862744], [0.2980392156862745, 0.2627450980392157, 0.1568627450980392], [0.25882352941176473, 0.24705882352941178, 0.12549019607843137], [0.5058823529411764, 0.5137254901960784, 0.4745098039215686], [0.996078431372549, 0.984313725490196, 1.0], [1.0, 0.9764705882352941, 0.9882352941176471], [0.996078431372549, 0.9921568627450981, 0.9921568627450981], [0.996078431372549, 0.996078431372549, 0.996078431372549], [0.996078431372549, 0.996078431372549, 0.996078431372549], [0.996078431372549, 0.996078431372549, 0.996078431372549], [0.996078431372549, 0.996078431372549, 0.996078431372549], [0.996078431372549, 0.996078431372549, 0.996078431372549], [0.996078431372549, 0.996078431372549, 0.996078431372549], [0.9921568627450981, 0.9921568627450981, 0.9921568627450981], [0.9921568627450981, 0.9921568627450981, 0.9921568627450981]], [[1.0, 0.9921568627450981, 1.0], [0.996078431372549, 0.9921568627450981, 1.0], [0.996078431372549, 0.9921568627450981, 1.0], [0.996078431372549, 0.9921568627450981, 0.996078431372549], [0.9921568627450981, 0.9921568627450981, 0.9882352941176471], [0.996078431372549, 0.996078431372549, 0.9921568627450981], [0.9921568627450981, 0.9882352941176471, 0.984313725490196], [0.996078431372549, 0.9882352941176471, 0.9882352941176471], [0.9921568627450981, 0.984313725490196, 0.9882352941176471], [0.996078431372549, 0.9882352941176471, 0.9921568627450981], [1.0, 0.9921568627450981, 0.996078431372549], [1.0, 0.996078431372549, 0.996078431372549], [1.0, 1.0, 1.0], [1.0, 1.0, 1.0], [1.0, 0.996078431372549, 0.9882352941176471], [0.8392156862745098, 0.8274509803921568, 0.803921568627451], [0.1843137254901961, 0.16862745098039217, 0.12941176470588237], [0.12549019607843137, 0.10588235294117647, 0.050980392156862744], [0.12156862745098039, 0.10588235294117647, 0.0392156862745098], [0.23137254901960785, 0.23137254901960785, 0.17254901960784313], [0.8509803921568627, 0.8549019607843137, 0.8431372549019608], [0.996078431372549, 0.9882352941176471, 1.0], [0.996078431372549, 0.984313725490196, 0.9882352941176471], [0.996078431372549, 0.996078431372549, 0.9921568627450981], [0.996078431372549, 0.996078431372549, 0.996078431372549], [0.996078431372549, 0.996078431372549, 0.996078431372549], [0.996078431372549, 0.996078431372549, 0.996078431372549], [0.996078431372549, 0.996078431372549, 0.996078431372549], [0.996078431372549, 0.996078431372549, 0.996078431372549], [0.996078431372549, 0.996078431372549, 0.996078431372549], [0.996078431372549, 0.996078431372549, 0.996078431372549], [0.996078431372549, 0.996078431372549, 0.996078431372549]]]]}'"
            ]
          },
          "metadata": {
            "tags": []
          },
          "execution_count": 74
        }
      ]
    },
    {
      "cell_type": "markdown",
      "metadata": {
        "id": "KZDKjyfbPoIa",
        "colab_type": "text"
      },
      "source": [
        "### Enviar la primera petición POST al modelo"
      ]
    },
    {
      "cell_type": "code",
      "metadata": {
        "id": "7oFbtxiyPe4p",
        "colab_type": "code",
        "colab": {
          "base_uri": "https://localhost:8080/",
          "height": 35
        },
        "outputId": "9515110a-99cd-4881-ae37-24279f32673f"
      },
      "source": [
        "headers = {\"content-type\":\"application/json\"}\n",
        "headers"
      ],
      "execution_count": 73,
      "outputs": [
        {
          "output_type": "execute_result",
          "data": {
            "text/plain": [
              "{'content-type': 'application/json'}"
            ]
          },
          "metadata": {
            "tags": []
          },
          "execution_count": 73
        }
      ]
    },
    {
      "cell_type": "code",
      "metadata": {
        "id": "I5KHh02nQYIJ",
        "colab_type": "code",
        "colab": {}
      },
      "source": [
        "json_response = requests.post(url=\"http://localhost:8010/v1/models/cifar10:predict\", data=data, headers=headers)"
      ],
      "execution_count": null,
      "outputs": []
    },
    {
      "cell_type": "code",
      "metadata": {
        "id": "bMYkCQ4gQ2tR",
        "colab_type": "code",
        "colab": {}
      },
      "source": [
        "json_response"
      ],
      "execution_count": null,
      "outputs": []
    },
    {
      "cell_type": "code",
      "metadata": {
        "id": "UtoG2441Q4_I",
        "colab_type": "code",
        "colab": {}
      },
      "source": [
        "predictions = json.loads(json_response.text)['predictions']"
      ],
      "execution_count": null,
      "outputs": []
    },
    {
      "cell_type": "code",
      "metadata": {
        "id": "hA-jN6xSRK2S",
        "colab_type": "code",
        "colab": {
          "base_uri": "https://localhost:8080/",
          "height": 187
        },
        "outputId": "9bb022e4-619d-456c-e1c7-ad654831d45b"
      },
      "source": [
        "predictions"
      ],
      "execution_count": null,
      "outputs": [
        {
          "output_type": "execute_result",
          "data": {
            "text/plain": [
              "[[1.26298616e-09,\n",
              "  3.42567225e-11,\n",
              "  2.43073339e-10,\n",
              "  2.89047062e-08,\n",
              "  4.87489042e-12,\n",
              "  4.10505553e-11,\n",
              "  3.08533615e-11,\n",
              "  7.64918184e-07,\n",
              "  1.75791507e-14,\n",
              "  0.999999166]]"
            ]
          },
          "metadata": {
            "tags": []
          },
          "execution_count": 28
        }
      ]
    },
    {
      "cell_type": "code",
      "metadata": {
        "id": "KlyFNxrxRL_A",
        "colab_type": "code",
        "colab": {
          "base_uri": "https://localhost:8080/",
          "height": 286
        },
        "outputId": "564ed5d8-39bb-4820-f175-1919debb0da5"
      },
      "source": [
        "plt.imshow(X_test[random_image])"
      ],
      "execution_count": null,
      "outputs": [
        {
          "output_type": "execute_result",
          "data": {
            "text/plain": [
              "<matplotlib.image.AxesImage at 0x7f6b4583b3c8>"
            ]
          },
          "metadata": {
            "tags": []
          },
          "execution_count": 29
        },
        {
          "output_type": "display_data",
          "data": {
            "image/png": "[encoded data removed]",
            "text/plain": [
              "<Figure size 432x288 with 1 Axes>"
            ]
          },
          "metadata": {
            "tags": []
          }
        }
      ]
    },
    {
      "cell_type": "code",
      "metadata": {
        "id": "E3WbrMl_RW1Y",
        "colab_type": "code",
        "colab": {
          "base_uri": "https://localhost:8080/",
          "height": 34
        },
        "outputId": "11d29c8d-74e7-4cc9-e7f9-5e5cd6761f70"
      },
      "source": [
        "class_names[np.argmax(predictions[0])]"
      ],
      "execution_count": null,
      "outputs": [
        {
          "output_type": "execute_result",
          "data": {
            "text/plain": [
              "'camión'"
            ]
          },
          "metadata": {
            "tags": []
          },
          "execution_count": 30
        }
      ]
    },
    {
      "cell_type": "markdown",
      "metadata": {
        "id": "OVN6T3tFR_IQ",
        "colab_type": "text"
      },
      "source": [
        "## Paso 8: Enviar una petición POST a un modelo específico "
      ]
    },
    {
      "cell_type": "code",
      "metadata": {
        "id": "5TYXGo-XRkCo",
        "colab_type": "code",
        "colab": {}
      },
      "source": [
        "specific_json_response = requests.post(url=\"http://localhost:8000/v1/models/cifar10/versions/1:predict\", data=data, headers=headers)"
      ],
      "execution_count": null,
      "outputs": []
    },
    {
      "cell_type": "code",
      "metadata": {
        "id": "TF9nOKVeS9ER",
        "colab_type": "code",
        "colab": {
          "base_uri": "https://localhost:8080/",
          "height": 34
        },
        "outputId": "a197dde6-ce3a-4279-ed59-a7b1851b4a2e"
      },
      "source": [
        "specific_json_response"
      ],
      "execution_count": null,
      "outputs": [
        {
          "output_type": "execute_result",
          "data": {
            "text/plain": [
              "<Response [200]>"
            ]
          },
          "metadata": {
            "tags": []
          },
          "execution_count": 32
        }
      ]
    },
    {
      "cell_type": "code",
      "metadata": {
        "id": "EZGwCkeMS-qg",
        "colab_type": "code",
        "colab": {}
      },
      "source": [
        ""
      ],
      "execution_count": null,
      "outputs": []
    }
  ]
}